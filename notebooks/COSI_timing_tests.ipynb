{
 "cells": [
  {
   "cell_type": "code",
   "execution_count": 32,
   "metadata": {},
   "outputs": [],
   "source": [
    "import os\n",
    "import glob\n",
    "\n",
    "import numpy as np\n",
    "import scipy.io as sio\n",
    "from PIL import Image\n",
    "import matplotlib.pyplot as plt\n",
    "import tensorflow as tf\n",
    "\n",
    "import time\n",
    "\n",
    "from src.new_model import *"
   ]
  },
  {
   "cell_type": "code",
   "execution_count": 33,
   "metadata": {},
   "outputs": [],
   "source": [
    "obj_dims = (648, 486)\n",
    "BATCH_SIZE = 4\n",
    "best_is = [265, 442, 480]\n",
    "\n",
    "test_files = np.array(sorted(glob.glob('../data/main_dataset/test/*')))\n",
    "output_dir = '../results/'\n",
    "best_images_dir = '../results/best_images'\n",
    "res_target_path = '../data/real-data/resTargetZ_1.mat'\n",
    "\n",
    "# Whether to save ground truths to results directory (set False to save time).\n",
    "save_gts_flag = False"
   ]
  },
  {
   "cell_type": "markdown",
   "metadata": {},
   "source": [
    "# Preprocess Resolution Target"
   ]
  },
  {
   "cell_type": "code",
   "execution_count": 34,
   "metadata": {},
   "outputs": [],
   "source": [
    "res = sio.loadmat(res_target_path)['b']\n",
    "res = normalize(res).T\n",
    "res = res.astype(np.float16)[np.newaxis, ..., np.newaxis]"
   ]
  },
  {
   "cell_type": "markdown",
   "metadata": {},
   "source": [
    "# Create Dataset"
   ]
  },
  {
   "cell_type": "code",
   "execution_count": 35,
   "metadata": {},
   "outputs": [],
   "source": [
    "def _parse_function(example_proto):\n",
    "    feature_description = {\n",
    "        'plane': tf.io.FixedLenFeature(obj_dims, tf.float32),\n",
    "        'sim': tf.io.FixedLenFeature(obj_dims, tf.float32)\n",
    "        \n",
    "    }\n",
    "    example = tf.io.parse_single_example(example_proto, feature_description)\n",
    "    plane = example['plane']\n",
    "    plane_max = tf.reduce_max(plane)\n",
    "    plane_min = tf.reduce_min(plane)\n",
    "    plane = (plane - plane_min) / (plane_max - plane_min)  # Normalize values to [0, 1]\n",
    "\n",
    "    sim = example['sim']\n",
    "    sim_max = tf.reduce_max(sim)\n",
    "    sim_min = tf.reduce_min(sim)\n",
    "    sim = (sim - sim_min) / (sim_max - sim_min)  # Normalize values to [0, 1]\n",
    "\n",
    "    # Expand to channel dimension\n",
    "    sim = sim[..., tf.newaxis]\n",
    "    \n",
    "    return sim, plane\n",
    "\n",
    "def create_dataset(filenames, batch_size):\n",
    "    \"\"\"\n",
    "    Takes in string array of filenames for TFRecord files containing samples.\n",
    "    Returns: TFRecordDataset with given batch size\n",
    "    \"\"\"\n",
    "    raw_dataset = tf.data.TFRecordDataset(filenames)\n",
    "    dataset = raw_dataset.map(_parse_function)\n",
    "    dataset = dataset.batch(batch_size)\n",
    "    \n",
    "    return dataset"
   ]
  },
  {
   "cell_type": "code",
   "execution_count": 36,
   "metadata": {},
   "outputs": [],
   "source": [
    "test_dataset = create_dataset(test_files[best_is], BATCH_SIZE)"
   ]
  },
  {
   "cell_type": "code",
   "execution_count": 37,
   "metadata": {},
   "outputs": [],
   "source": [
    "sims = []\n",
    "# Get sims in order of best_is\n",
    "for i, (sim, plane) in enumerate(test_dataset.unbatch()):\n",
    "    sims.append(sim)"
   ]
  },
  {
   "cell_type": "markdown",
   "metadata": {},
   "source": [
    "# Timing tests"
   ]
  },
  {
   "cell_type": "code",
   "execution_count": 46,
   "metadata": {},
   "outputs": [],
   "source": [
    "def time_model(model, sims, best_is, n):\n",
    "    \"\"\"\n",
    "    Time test on each simulated best image.\n",
    "    Inputs:\n",
    "        - model: model to test\n",
    "        - sims: simulated images\n",
    "        - best_is: index of simulated image, in order of sims\n",
    "        - n: number of predictions to average times over\n",
    "    \"\"\"\n",
    "    # Predict on dummies to warm up GPU\n",
    "    for _ in range(10):\n",
    "        model(np.zeros(sims[0].shape)[None, ...])\n",
    "    for i in range(len(best_is)):\n",
    "        t0 = time.time()\n",
    "\n",
    "        for _ in range(n):\n",
    "            z = np.clip(model(sims[i][None, ...]), 0, 1)\n",
    "\n",
    "        t1 = time.time()\n",
    "        print('sim_{}: {}s per prediction'.format(best_is[i], (t1-t0) / n)) \n",
    "        \n",
    "def time_model_res_target(model, res_target, n):\n",
    "    \"\"\"\n",
    "    Time test on the res_target.\n",
    "    Inputs:\n",
    "        - model: model to test\n",
    "        - res_target: preprocessed res_target\n",
    "        - n: number of predictions to average times over\n",
    "    \"\"\"\n",
    "    # Predict on dummies to warm up GPU\n",
    "    for _ in range(50):\n",
    "        model(np.zeros(sims[0].shape)[None, ...])\n",
    "\n",
    "    t0 = time.time()\n",
    "    for _ in range(n):\n",
    "        z = np.clip(model(res_target), 0, 1)\n",
    "    t1 = time.time()\n",
    "    print('res_target: {}s per prediction'.format((t1-t0) / n)) "
   ]
  },
  {
   "cell_type": "markdown",
   "metadata": {},
   "source": [
    "## UNet, 9 Learnable Wiener Deconvolutions"
   ]
  },
  {
   "cell_type": "code",
   "execution_count": 47,
   "metadata": {},
   "outputs": [
    {
     "data": {
      "text/plain": [
       "<tensorflow.python.training.tracking.util.CheckpointLoadStatus at 0x7fb9106fce80>"
      ]
     },
     "execution_count": 47,
     "metadata": {},
     "output_type": "execute_result"
    }
   ],
   "source": [
    "psfs = np.zeros((648, 486, 9))\n",
    "Ks = np.zeros((1, 1, 9))\n",
    "model = UNet_multiwiener_resize(648, 486, psfs, Ks,\n",
    "                         encoding_cs=[24, 64, 128, 256, 512, 1024],\n",
    "                         center_cs=1024,\n",
    "                         decoding_cs=[512, 256, 128, 64, 24, 24],\n",
    "                         skip_connections=[True, True, True, True, True, False])\n",
    "\n",
    "model.load_weights('../models/model_final_5/model_final_5.best')"
   ]
  },
  {
   "cell_type": "code",
   "execution_count": 48,
   "metadata": {},
   "outputs": [
    {
     "name": "stdout",
     "output_type": "stream",
     "text": [
      "sim_265: 0.03986137628555298s per prediction\n",
      "sim_442: 0.03904870510101319s per prediction\n",
      "sim_480: 0.039069685935974124s per prediction\n"
     ]
    }
   ],
   "source": [
    "time_model(model, sims, best_is, 100)"
   ]
  },
  {
   "cell_type": "code",
   "execution_count": 49,
   "metadata": {},
   "outputs": [
    {
     "name": "stdout",
     "output_type": "stream",
     "text": [
      "res_target: 0.041536185741424564s per prediction\n"
     ]
    }
   ],
   "source": [
    "time_model_res_target(model, res, 100)"
   ]
  },
  {
   "cell_type": "markdown",
   "metadata": {},
   "source": [
    "## UNet, 1 Learnable Wiener Deconvolution"
   ]
  },
  {
   "cell_type": "code",
   "execution_count": 50,
   "metadata": {},
   "outputs": [
    {
     "data": {
      "text/plain": [
       "<tensorflow.python.training.tracking.util.CheckpointLoadStatus at 0x7fb97e543208>"
      ]
     },
     "execution_count": 50,
     "metadata": {},
     "output_type": "execute_result"
    }
   ],
   "source": [
    "psf = np.zeros((648, 486))\n",
    "K = 0\n",
    "model = UNet_wiener(648, 486, psf, K, \n",
    "                         encoding_cs=[24, 64, 128, 256, 512, 1024],\n",
    "                         center_cs=1024,\n",
    "                         decoding_cs=[512, 256, 128, 64, 24, 24],\n",
    "                         skip_connections=[True, True, True, True, True, False])\n",
    "\n",
    "model.load_weights('../models/model_final_2/model_final_2.best')"
   ]
  },
  {
   "cell_type": "code",
   "execution_count": 51,
   "metadata": {},
   "outputs": [
    {
     "name": "stdout",
     "output_type": "stream",
     "text": [
      "sim_265: 0.031772370338439944s per prediction\n",
      "sim_442: 0.030518879890441896s per prediction\n",
      "sim_480: 0.030229434967041016s per prediction\n"
     ]
    }
   ],
   "source": [
    "time_model(model, sims, best_is, 100)"
   ]
  },
  {
   "cell_type": "code",
   "execution_count": 52,
   "metadata": {},
   "outputs": [
    {
     "name": "stdout",
     "output_type": "stream",
     "text": [
      "res_target: 0.03144089221954346s per prediction\n"
     ]
    }
   ],
   "source": [
    "time_model_res_target(model, res, 100)"
   ]
  },
  {
   "cell_type": "markdown",
   "metadata": {},
   "source": [
    "# Basic UNet"
   ]
  },
  {
   "cell_type": "code",
   "execution_count": 53,
   "metadata": {},
   "outputs": [
    {
     "data": {
      "text/plain": [
       "<tensorflow.python.training.tracking.util.CheckpointLoadStatus at 0x7fb909b25fd0>"
      ]
     },
     "execution_count": 53,
     "metadata": {},
     "output_type": "execute_result"
    }
   ],
   "source": [
    "model = UNet(648, 486,\n",
    "                 encoding_cs=[24, 64, 128, 256, 512, 1024],\n",
    "                 center_cs=1024,\n",
    "                 decoding_cs=[512, 256, 128, 64, 24, 24],\n",
    "                 skip_connections=[True, True, True, True, True, False])\n",
    "\n",
    "model.load_weights('../models/model_final_6/model_final_6.best')"
   ]
  },
  {
   "cell_type": "code",
   "execution_count": 54,
   "metadata": {},
   "outputs": [
    {
     "name": "stdout",
     "output_type": "stream",
     "text": [
      "sim_265: 0.02665058135986328s per prediction\n",
      "sim_442: 0.026938197612762452s per prediction\n",
      "sim_480: 0.0268117094039917s per prediction\n"
     ]
    }
   ],
   "source": [
    "time_model(model, sims, best_is, 100)"
   ]
  },
  {
   "cell_type": "code",
   "execution_count": 55,
   "metadata": {},
   "outputs": [
    {
     "name": "stdout",
     "output_type": "stream",
     "text": [
      "res_target: 0.027177495956420897s per prediction\n"
     ]
    }
   ],
   "source": [
    "time_model_res_target(model, res, 100)"
   ]
  },
  {
   "cell_type": "code",
   "execution_count": null,
   "metadata": {},
   "outputs": [],
   "source": []
  }
 ],
 "metadata": {
  "kernelspec": {
   "display_name": "venv_unet",
   "language": "python",
   "name": "venv_unet"
  },
  "language_info": {
   "codemirror_mode": {
    "name": "ipython",
    "version": 3
   },
   "file_extension": ".py",
   "mimetype": "text/x-python",
   "name": "python",
   "nbconvert_exporter": "python",
   "pygments_lexer": "ipython3",
   "version": "3.6.9"
  }
 },
 "nbformat": 4,
 "nbformat_minor": 4
}
