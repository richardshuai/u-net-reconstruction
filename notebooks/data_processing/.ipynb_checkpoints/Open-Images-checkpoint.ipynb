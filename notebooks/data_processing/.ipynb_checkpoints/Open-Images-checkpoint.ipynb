{
 "cells": [
  {
   "cell_type": "code",
   "execution_count": 2,
   "metadata": {},
   "outputs": [],
   "source": [
    "import numpy as np\n",
    "import tensorflow as tf\n",
    "\n",
    "from os import path\n",
    "import matplotlib.pyplot as plt\n",
    "\n",
    "from scipy.ndimage import gaussian_filter\n",
    "\n",
    "from PIL import Image\n",
    "import glob"
   ]
  },
  {
   "cell_type": "code",
   "execution_count": 3,
   "metadata": {},
   "outputs": [],
   "source": [
    "np.random.seed(1)"
   ]
  },
  {
   "cell_type": "code",
   "execution_count": 4,
   "metadata": {},
   "outputs": [],
   "source": [
    "sample_names = 'open-images'\n",
    "record_dir = path.join('..', '..', 'data', 'model-1', 'ground-truths')\n",
    "dataset_dir = path.join('..', '..', 'data', 'datasets', 'open-images', 'images')\n",
    "files = glob.glob(path.join(dataset_dir, '*'))\n",
    "\n",
    "obj_dims = (648, 486)\n",
    "\n",
    "# fwhm in pixels, for convolution with Gaussian\n",
    "fwhm_pixels = np.array([2, 2])"
   ]
  },
  {
   "cell_type": "code",
   "execution_count": 5,
   "metadata": {},
   "outputs": [],
   "source": [
    "np.random.shuffle(files)\n"
   ]
  },
  {
   "cell_type": "code",
   "execution_count": 6,
   "metadata": {},
   "outputs": [],
   "source": [
    "def normalize(im):\n",
    "    \"\"\"\n",
    "    Normalizes im from 0 to 1.\n",
    "    \"\"\"\n",
    "    im_max = np.max(im)\n",
    "    im_min = np.min(im)\n",
    "    return (im - im_min) / (im_max - im_min)\n",
    "\n",
    "def _create_example(plane):\n",
    "    \"\"\"\n",
    "    Creates and returns tf.Example from a given numpy array.\n",
    "    \"\"\"\n",
    "    plane_feature = tf.train.Feature(float_list=tf.train.FloatList(value=plane.ravel()))\n",
    "    feature = {\n",
    "        'plane': plane_feature\n",
    "    }\n",
    "    return tf.train.Example(features=tf.train.Features(feature=feature))"
   ]
  },
  {
   "cell_type": "code",
   "execution_count": 7,
   "metadata": {},
   "outputs": [
    {
     "name": "stderr",
     "output_type": "stream",
     "text": [
      "/home/rshuai/u-net-reconstruction/richardenv/lib/python3.6/site-packages/PIL/TiffImagePlugin.py:770: UserWarning: Possibly corrupt EXIF data.  Expecting to read 7929856 bytes but only got 0. Skipping tag 0\n",
      "  \" Skipping tag %s\" % (size, len(data), tag)\n",
      "/home/rshuai/u-net-reconstruction/richardenv/lib/python3.6/site-packages/PIL/TiffImagePlugin.py:770: UserWarning: Possibly corrupt EXIF data.  Expecting to read 381485056 bytes but only got 0. Skipping tag 0\n",
      "  \" Skipping tag %s\" % (size, len(data), tag)\n",
      "/home/rshuai/u-net-reconstruction/richardenv/lib/python3.6/site-packages/PIL/TiffImagePlugin.py:788: UserWarning: Corrupt EXIF data.  Expecting to read 12 bytes but only got 4. \n",
      "  warnings.warn(str(msg))\n",
      "/home/rshuai/u-net-reconstruction/richardenv/lib/python3.6/site-packages/PIL/TiffImagePlugin.py:770: UserWarning: Possibly corrupt EXIF data.  Expecting to read 1179648 bytes but only got 0. Skipping tag 65535\n",
      "  \" Skipping tag %s\" % (size, len(data), tag)\n",
      "/home/rshuai/u-net-reconstruction/richardenv/lib/python3.6/site-packages/PIL/TiffImagePlugin.py:770: UserWarning: Possibly corrupt EXIF data.  Expecting to read 3538944 bytes but only got 0. Skipping tag 0\n",
      "  \" Skipping tag %s\" % (size, len(data), tag)\n",
      "ERROR:root:Internal Python error in the inspect module.\n",
      "Below is the traceback from this internal error.\n",
      "\n"
     ]
    },
    {
     "name": "stdout",
     "output_type": "stream",
     "text": [
      "Traceback (most recent call last):\n",
      "  File \"/home/rshuai/u-net-reconstruction/richardenv/lib/python3.6/site-packages/IPython/core/interactiveshell.py\", line 3326, in run_code\n",
      "    exec(code_obj, self.user_global_ns, self.user_ns)\n",
      "  File \"<ipython-input-7-96f47d09c66e>\", line 4, in <module>\n",
      "    sample = sample.resize(np.flip(obj_dims))\n",
      "  File \"/home/rshuai/u-net-reconstruction/richardenv/lib/python3.6/site-packages/PIL/Image.py\", line 1873, in resize\n",
      "    return self._new(self.im.resize(size, resample, box))\n",
      "KeyboardInterrupt\n",
      "\n",
      "During handling of the above exception, another exception occurred:\n",
      "\n",
      "Traceback (most recent call last):\n",
      "  File \"/home/rshuai/u-net-reconstruction/richardenv/lib/python3.6/site-packages/IPython/core/interactiveshell.py\", line 2040, in showtraceback\n",
      "    stb = value._render_traceback_()\n",
      "AttributeError: 'KeyboardInterrupt' object has no attribute '_render_traceback_'\n",
      "\n",
      "During handling of the above exception, another exception occurred:\n",
      "\n",
      "Traceback (most recent call last):\n",
      "  File \"/home/rshuai/u-net-reconstruction/richardenv/lib/python3.6/site-packages/IPython/core/ultratb.py\", line 1101, in get_records\n",
      "    return _fixed_getinnerframes(etb, number_of_lines_of_context, tb_offset)\n",
      "  File \"/home/rshuai/u-net-reconstruction/richardenv/lib/python3.6/site-packages/IPython/core/ultratb.py\", line 319, in wrapped\n",
      "    return f(*args, **kwargs)\n",
      "  File \"/home/rshuai/u-net-reconstruction/richardenv/lib/python3.6/site-packages/IPython/core/ultratb.py\", line 353, in _fixed_getinnerframes\n",
      "    records = fix_frame_records_filenames(inspect.getinnerframes(etb, context))\n",
      "  File \"/usr/lib/python3.6/inspect.py\", line 1490, in getinnerframes\n",
      "    frameinfo = (tb.tb_frame,) + getframeinfo(tb, context)\n",
      "  File \"/usr/lib/python3.6/inspect.py\", line 1448, in getframeinfo\n",
      "    filename = getsourcefile(frame) or getfile(frame)\n",
      "  File \"/usr/lib/python3.6/inspect.py\", line 696, in getsourcefile\n",
      "    if getattr(getmodule(object, filename), '__loader__', None) is not None:\n",
      "  File \"/usr/lib/python3.6/inspect.py\", line 742, in getmodule\n",
      "    os.path.realpath(f)] = module.__name__\n",
      "  File \"/home/rshuai/u-net-reconstruction/richardenv/lib/python3.6/posixpath.py\", line 395, in realpath\n",
      "    path, ok = _joinrealpath(filename[:0], filename, {})\n",
      "  File \"/home/rshuai/u-net-reconstruction/richardenv/lib/python3.6/posixpath.py\", line 428, in _joinrealpath\n",
      "    newpath = join(path, name)\n",
      "KeyboardInterrupt\n"
     ]
    },
    {
     "ename": "KeyboardInterrupt",
     "evalue": "",
     "output_type": "error",
     "traceback": [
      "\u001b[0;31m---------------------------------------------------------------------------\u001b[0m"
     ]
    }
   ],
   "source": [
    "for i in range(len(files)):\n",
    "    sample = Image.open(files[i])\n",
    "    sample = sample.convert('L')\n",
    "    sample = sample.resize(np.flip(obj_dims))\n",
    "    \n",
    "    sample = np.asarray(sample)\n",
    "    \n",
    "    fwhm_scaled = fwhm_pixels\n",
    "    sigmas = fwhm_scaled / np.sqrt(8 * np.log(2))\n",
    "    sample = gaussian_filter(sample, sigmas)\n",
    "    sample = normalize(sample)\n",
    "    \n",
    "    sample.astype(np.float16)\n",
    "    \n",
    "    record_file = path.join(record_dir, sample_names + '-%.5d' % i + '.tfrecord')\n",
    "    with tf.io.TFRecordWriter(record_file) as writer:\n",
    "        tf_example = _create_example(sample)\n",
    "        writer.write(tf_example.SerializeToString())"
   ]
  },
  {
   "cell_type": "code",
   "execution_count": null,
   "metadata": {},
   "outputs": [],
   "source": []
  }
 ],
 "metadata": {
  "kernelspec": {
   "display_name": "Python 3",
   "language": "python",
   "name": "python3"
  },
  "language_info": {
   "codemirror_mode": {
    "name": "ipython",
    "version": 3
   },
   "file_extension": ".py",
   "mimetype": "text/x-python",
   "name": "python",
   "nbconvert_exporter": "python",
   "pygments_lexer": "ipython3",
   "version": "3.6.9"
  }
 },
 "nbformat": 4,
 "nbformat_minor": 4
}
