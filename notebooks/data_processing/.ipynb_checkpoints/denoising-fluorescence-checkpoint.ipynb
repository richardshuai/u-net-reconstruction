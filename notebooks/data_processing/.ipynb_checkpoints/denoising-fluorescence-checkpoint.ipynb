{
 "cells": [
  {
   "cell_type": "code",
   "execution_count": 1,
   "metadata": {},
   "outputs": [],
   "source": [
    "import numpy as np\n",
    "import tensorflow as tf\n",
    "\n",
    "from os import path\n",
    "import matplotlib.pyplot as plt\n",
    "\n",
    "from scipy.ndimage import gaussian_filter\n",
    "\n",
    "from PIL import Image\n",
    "import glob"
   ]
  },
  {
   "cell_type": "code",
   "execution_count": 2,
   "metadata": {},
   "outputs": [],
   "source": [
    "np.random.seed(0)"
   ]
  },
  {
   "cell_type": "code",
   "execution_count": 3,
   "metadata": {},
   "outputs": [],
   "source": [
    "sample_names = 'denoising-fluorescence'\n",
    "record_dir = path.join('..', '..', 'data', 'datasets', 'gt-records', 'denoising-fluorescence')\n",
    "dataset_dir = path.join('..', '..', 'data', 'datasets', 'raw-images','denoising-fluorescence')\n",
    "files = glob.glob(path.join(dataset_dir, '*', 'gt', '*', '*.png'))\n",
    "\n",
    "obj_dims = (648, 486)\n",
    "\n",
    "# fwhm in pixels, for convolution with Gaussian\n",
    "fwhm_pixels = np.array([2, 2])"
   ]
  },
  {
   "cell_type": "code",
   "execution_count": 4,
   "metadata": {},
   "outputs": [],
   "source": [
    "np.random.shuffle(files)"
   ]
  },
  {
   "cell_type": "code",
   "execution_count": 5,
   "metadata": {},
   "outputs": [],
   "source": [
    "def normalize(im):\n",
    "    \"\"\"\n",
    "    Normalizes im from 0 to 1.\n",
    "    \"\"\"\n",
    "    im_max = np.max(im)\n",
    "    im_min = np.min(im)\n",
    "    return (im - im_min) / (im_max - im_min)\n",
    "\n",
    "def _create_example(plane):\n",
    "    \"\"\"\n",
    "    Creates and returns tf.Example from a given numpy array.\n",
    "    \"\"\"\n",
    "    plane_feature = tf.train.Feature(float_list=tf.train.FloatList(value=plane.ravel()))\n",
    "    feature = {\n",
    "        'plane': plane_feature\n",
    "    }\n",
    "    return tf.train.Example(features=tf.train.Features(feature=feature))"
   ]
  },
  {
   "cell_type": "code",
   "execution_count": 6,
   "metadata": {},
   "outputs": [
    {
     "ename": "NotFoundError",
     "evalue": "../../data/datasets/records/denoising-fluorescence/denoising-fluorescence-00000.tfrecord; No such file or directory",
     "output_type": "error",
     "traceback": [
      "\u001b[0;31m---------------------------------------------------------------------------\u001b[0m",
      "\u001b[0;31mNotFoundError\u001b[0m                             Traceback (most recent call last)",
      "\u001b[0;32m<ipython-input-6-31d4cea5f5a7>\u001b[0m in \u001b[0;36m<module>\u001b[0;34m()\u001b[0m\n\u001b[1;32m     14\u001b[0m \u001b[0;34m\u001b[0m\u001b[0m\n\u001b[1;32m     15\u001b[0m     \u001b[0mrecord_file\u001b[0m \u001b[0;34m=\u001b[0m \u001b[0mpath\u001b[0m\u001b[0;34m.\u001b[0m\u001b[0mjoin\u001b[0m\u001b[0;34m(\u001b[0m\u001b[0mrecord_dir\u001b[0m\u001b[0;34m,\u001b[0m \u001b[0msample_names\u001b[0m \u001b[0;34m+\u001b[0m \u001b[0;34m'-%.5d'\u001b[0m \u001b[0;34m%\u001b[0m \u001b[0mi\u001b[0m \u001b[0;34m+\u001b[0m \u001b[0;34m'.tfrecord'\u001b[0m\u001b[0;34m)\u001b[0m\u001b[0;34m\u001b[0m\u001b[0;34m\u001b[0m\u001b[0m\n\u001b[0;32m---> 16\u001b[0;31m     \u001b[0;32mwith\u001b[0m \u001b[0mtf\u001b[0m\u001b[0;34m.\u001b[0m\u001b[0mio\u001b[0m\u001b[0;34m.\u001b[0m\u001b[0mTFRecordWriter\u001b[0m\u001b[0;34m(\u001b[0m\u001b[0mrecord_file\u001b[0m\u001b[0;34m)\u001b[0m \u001b[0;32mas\u001b[0m \u001b[0mwriter\u001b[0m\u001b[0;34m:\u001b[0m\u001b[0;34m\u001b[0m\u001b[0;34m\u001b[0m\u001b[0m\n\u001b[0m\u001b[1;32m     17\u001b[0m         \u001b[0mtf_example\u001b[0m \u001b[0;34m=\u001b[0m \u001b[0m_create_example\u001b[0m\u001b[0;34m(\u001b[0m\u001b[0msample\u001b[0m\u001b[0;34m)\u001b[0m\u001b[0;34m\u001b[0m\u001b[0;34m\u001b[0m\u001b[0m\n\u001b[1;32m     18\u001b[0m         \u001b[0mwriter\u001b[0m\u001b[0;34m.\u001b[0m\u001b[0mwrite\u001b[0m\u001b[0;34m(\u001b[0m\u001b[0mtf_example\u001b[0m\u001b[0;34m.\u001b[0m\u001b[0mSerializeToString\u001b[0m\u001b[0;34m(\u001b[0m\u001b[0;34m)\u001b[0m\u001b[0;34m)\u001b[0m\u001b[0;34m\u001b[0m\u001b[0;34m\u001b[0m\u001b[0m\n",
      "\u001b[0;32m/home/rshuai/.local/lib/python3.6/site-packages/tensorflow/python/lib/io/tf_record.py\u001b[0m in \u001b[0;36m__init__\u001b[0;34m(self, path, options)\u001b[0m\n\u001b[1;32m    297\u001b[0m     \u001b[0;31m# pylint: disable=protected-access\u001b[0m\u001b[0;34m\u001b[0m\u001b[0;34m\u001b[0m\u001b[0;34m\u001b[0m\u001b[0m\n\u001b[1;32m    298\u001b[0m     super(TFRecordWriter, self).__init__(\n\u001b[0;32m--> 299\u001b[0;31m         compat.as_bytes(path), options._as_record_writer_options())\n\u001b[0m\u001b[1;32m    300\u001b[0m     \u001b[0;31m# pylint: enable=protected-access\u001b[0m\u001b[0;34m\u001b[0m\u001b[0;34m\u001b[0m\u001b[0;34m\u001b[0m\u001b[0m\n\u001b[1;32m    301\u001b[0m \u001b[0;34m\u001b[0m\u001b[0m\n",
      "\u001b[0;31mNotFoundError\u001b[0m: ../../data/datasets/records/denoising-fluorescence/denoising-fluorescence-00000.tfrecord; No such file or directory"
     ]
    }
   ],
   "source": [
    "for i in range(len(files)):\n",
    "    sample = Image.open(files[i])\n",
    "    sample = sample.convert('L')\n",
    "    sample = sample.resize(np.flip(obj_dims))\n",
    "    \n",
    "    sample = np.asarray(sample)\n",
    "    \n",
    "    fwhm_scaled = fwhm_pixels\n",
    "    sigmas = fwhm_scaled / np.sqrt(8 * np.log(2))\n",
    "    sample = gaussian_filter(sample, sigmas)\n",
    "    sample = normalize(sample)\n",
    "    \n",
    "    sample.astype(np.float16)\n",
    "    \n",
    "    record_file = path.join(record_dir, sample_names + '-%.5d' % i + '.tfrecord')\n",
    "    with tf.io.TFRecordWriter(record_file) as writer:\n",
    "        tf_example = _create_example(sample)\n",
    "        writer.write(tf_example.SerializeToString())"
   ]
  },
  {
   "cell_type": "code",
   "execution_count": null,
   "metadata": {},
   "outputs": [],
   "source": []
  }
 ],
 "metadata": {
  "kernelspec": {
   "display_name": "Python 3",
   "language": "python",
   "name": "python3"
  },
  "language_info": {
   "codemirror_mode": {
    "name": "ipython",
    "version": 3
   },
   "file_extension": ".py",
   "mimetype": "text/x-python",
   "name": "python",
   "nbconvert_exporter": "python",
   "pygments_lexer": "ipython3",
   "version": "3.6.9"
  }
 },
 "nbformat": 4,
 "nbformat_minor": 4
}
