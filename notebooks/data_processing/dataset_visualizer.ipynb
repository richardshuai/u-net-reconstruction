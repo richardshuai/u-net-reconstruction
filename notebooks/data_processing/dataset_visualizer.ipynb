{
 "cells": [
  {
   "cell_type": "code",
   "execution_count": null,
   "metadata": {},
   "outputs": [],
   "source": [
    "import numpy as np\n",
    "from PIL import Image\n",
    "import tensorflow as tf\n",
    "import matplotlib.pyplot as plt\n",
    "\n",
    "from os import path\n",
    "import glob"
   ]
  },
  {
   "cell_type": "code",
   "execution_count": null,
   "metadata": {},
   "outputs": [],
   "source": [
    "# Datasets to read\n",
    "base_path = '/home/rshuai/research/u-net-reconstruction/data/datasets/gt-records'\n",
    "dataset_names = ['broad-institute', 'cil', 'denoising-fluorescence', 'hpa', 'nucleus-seg']"
   ]
  },
  {
   "cell_type": "code",
   "execution_count": null,
   "metadata": {},
   "outputs": [],
   "source": [
    "# Define util methods\n",
    "obj_dims = (648, 486)\n",
    "\n",
    "feature_description = {\n",
    "    'plane': tf.io.FixedLenFeature(obj_dims, tf.float32)\n",
    "}\n",
    "\n",
    "def _parse_function(example_proto):\n",
    "  # Parse the input tf.Example proto using the dictionary above.\n",
    "  return tf.io.parse_single_example(example_proto, feature_description)\n",
    "\n",
    "def np_to_pil(img_np): \n",
    "    '''Converts image in np.array format to PIL image.\n",
    "    '''\n",
    "    ar = np.clip(img_np*255,0,255).astype(np.uint8)\n",
    "    return Image.fromarray(ar)"
   ]
  },
  {
   "cell_type": "code",
   "execution_count": null,
   "metadata": {},
   "outputs": [],
   "source": [
    "# Read in datasets and store in array\n",
    "datasets = dict()\n",
    "for dataset_name in dataset_names:\n",
    "    filenames = glob.glob(path.join(base_path, dataset_name, '*'))\n",
    "    raw_dataset = tf.data.TFRecordDataset(filenames=filenames)\n",
    "    dataset = raw_dataset.map(_parse_function)\n",
    "    datasets[dataset_name] = dataset"
   ]
  },
  {
   "cell_type": "code",
   "execution_count": null,
   "metadata": {},
   "outputs": [],
   "source": [
    "# Visualize each image\n",
    "for dataset_name in datasets:\n",
    "    for i, sample in enumerate(datasets[dataset_name]):\n",
    "        img_np = sample['plane'].numpy()\n",
    "        img_pil = np_to_pil(img_np)\n",
    "        img_pil.save('temp/{}_{:04d}.png'.format(dataset_name, i))"
   ]
  }
 ],
 "metadata": {
  "kernelspec": {
   "display_name": "venv_unet",
   "language": "python",
   "name": "venv_unet"
  },
  "language_info": {
   "codemirror_mode": {
    "name": "ipython",
    "version": 3
   },
   "file_extension": ".py",
   "mimetype": "text/x-python",
   "name": "python",
   "nbconvert_exporter": "python",
   "pygments_lexer": "ipython3",
   "version": "3.6.9"
  }
 },
 "nbformat": 4,
 "nbformat_minor": 4
}
