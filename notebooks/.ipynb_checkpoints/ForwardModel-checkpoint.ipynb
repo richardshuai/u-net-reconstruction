{
 "cells": [
  {
   "cell_type": "code",
   "execution_count": 1,
   "metadata": {},
   "outputs": [],
   "source": [
    "import glob\n",
    "import os\n",
    "from os import path\n",
    "import json\n",
    "\n",
    "import tensorflow as tf\n",
    "import numpy as np\n",
    "import numpy.fft as fft\n",
    "from PIL import Image\n",
    "import matplotlib.pyplot as plt\n",
    "\n",
    "import scipy.io as sio\n",
    "import h5py"
   ]
  },
  {
   "cell_type": "markdown",
   "metadata": {},
   "source": [
    "# Parameters"
   ]
  },
  {
   "cell_type": "code",
   "execution_count": 2,
   "metadata": {},
   "outputs": [],
   "source": [
    "## Parameters\n",
    "rank = 24\n",
    "ds_psf = 2\n",
    "z_slices = 1\n",
    "\n",
    "obj_dims = (648, 486)\n",
    "\n",
    "\n",
    "# Choose volume number to load\n",
    "# volume_num = 4"
   ]
  },
  {
   "cell_type": "markdown",
   "metadata": {},
   "source": [
    "# Filepaths"
   ]
  },
  {
   "cell_type": "code",
   "execution_count": 3,
   "metadata": {},
   "outputs": [],
   "source": [
    "# Input filepaths\n",
    "comps_path = '../data/PSFs/SVD_2_5um_PSF_5um_1_ds2_components_green_SubAvg.mat'\n",
    "weights_path = '../data/PSFs/SVD_2_5um_PSF_5um_1_ds2_weights_interp_green_SubAvg.mat'\n",
    "# v_path = '../data/volumes/volume' + str(volume_num) + '.npy'\n",
    "# dataset_path = '../data/volumes/volumes_300_15_648_486_1.npy'\n",
    "# output_path = '../data/sims/sim_sets/sim_set_z_15'\n",
    "# dataset_2d_path = '../data/2d_data/tf_records/planes/test'\n",
    "# output_2d_path = '../data/2d_data/tf_records/plane_sims/test2.tfrecords'\n",
    "# dataset_2d_path = '../data/2d_data/planes/planes_11000_648_486_1.npz'\n",
    "# output_2d_path = '../data/2d_data/plane_sims/plane_sim_11000_648_486_1.npz'"
   ]
  },
  {
   "cell_type": "code",
   "execution_count": 4,
   "metadata": {},
   "outputs": [],
   "source": [
    "filename = 'N_11000_Y_648_X_486_1'\n",
    "\n",
    "# Planes record path\n",
    "planes_dir = path.join('..', 'data', '2d_data', 'tf_records', 'planes')\n",
    "planes_file = path.join(planes_dir, 'planes_' + filename + '.tfrecords')\n",
    "\n",
    "# Simulation output record path\n",
    "record_dir = path.join('..', 'data', '2d_data', 'tf_records', 'plane_sims')\n",
    "record_file = path.join(record_dir, 'plane_sims_' + filename + '.tfrecords')\n",
    "\n",
    "# Directory to store information about dataset\n",
    "info_dir = path.join('..', 'data', '2d_data', 'tf_records', 'info')\n",
    "info_file = path.join(info_dir, filename + '_sims.json')"
   ]
  },
  {
   "cell_type": "markdown",
   "metadata": {},
   "source": [
    "# Loading PSF, Preprocessing"
   ]
  },
  {
   "cell_type": "code",
   "execution_count": 5,
   "metadata": {},
   "outputs": [],
   "source": [
    "# Read in Matlab v7.3 files with h5py.\n",
    "# Stores output as comps and weights.\n",
    "comps_file = h5py.File(comps_path, 'r')\n",
    "for k, v in comps_file.items():\n",
    "    comps = np.array(v)\n",
    "    \n",
    "weights_file = h5py.File(weights_path, 'r')\n",
    "for k, v in weights_file.items():\n",
    "    weights = np.array(v)"
   ]
  },
  {
   "cell_type": "code",
   "execution_count": 6,
   "metadata": {},
   "outputs": [
    {
     "name": "stdout",
     "output_type": "stream",
     "text": [
      "float64 float64\n"
     ]
    }
   ],
   "source": [
    "# Ensuring dtype of weights and comps is float\n",
    "print(comps.dtype, weights.dtype)"
   ]
  },
  {
   "cell_type": "code",
   "execution_count": 7,
   "metadata": {},
   "outputs": [],
   "source": [
    "# Transpose axes to get both arrays into shape (r, z, y, x)\n",
    "comps = comps.transpose(1, 0, 2, 3)\n",
    "weights = weights.transpose(1, 0, 2, 3)"
   ]
  },
  {
   "cell_type": "code",
   "execution_count": 8,
   "metadata": {},
   "outputs": [],
   "source": [
    "r_orig, z_orig, y_orig, x_orig = comps.shape"
   ]
  },
  {
   "cell_type": "code",
   "execution_count": 9,
   "metadata": {},
   "outputs": [
    {
     "name": "stdout",
     "output_type": "stream",
     "text": [
      "(24, 80, 1296, 972)\n"
     ]
    }
   ],
   "source": [
    "print(comps.shape)"
   ]
  },
  {
   "cell_type": "code",
   "execution_count": 10,
   "metadata": {},
   "outputs": [],
   "source": [
    "# Downsampling shape calculation. Must be flipped for use in PIL.Image.resize()\n",
    "ds_shape = (np.array(comps.shape[2:]) / ds_psf).astype(int)"
   ]
  },
  {
   "cell_type": "code",
   "execution_count": 11,
   "metadata": {},
   "outputs": [],
   "source": [
    "# max( sum( weights( size(weights,1)/2, size(weights,2)/2, :, :) , 4) , [] , 3);"
   ]
  },
  {
   "cell_type": "code",
   "execution_count": 12,
   "metadata": {},
   "outputs": [],
   "source": [
    "# Convert each image slice into PIL image and store in array of shape (r, z)\n",
    "PIL_comps_image_array = [[Image.fromarray(comps[r, z]) for z in range(z_orig)] for r in range(r_orig)]\n",
    "PIL_weights_image_array = [[Image.fromarray(weights[r, z])for z in range(z_orig)] for r in range(r_orig)]\n",
    "\n",
    "# Downsample each PIL image in the array\n",
    "PIL_comps_image_array = [[PIL_comps_image_array[r][z].resize(np.flip(ds_shape), resample=Image.BOX) \n",
    "                             for z in range(z_orig)] for r in range(r_orig)]\n",
    "PIL_weights_image_array = [[PIL_weights_image_array[r][z].resize(np.flip(ds_shape), resample=Image.BOX) \n",
    "                             for z in range(z_orig)] for r in range(r_orig)]\n",
    "\n",
    "# Convert each PIL image back into numpy array, return to numpy array of shape (r, z, y, x)\n",
    "comps = np.array([[np.array(PIL_comps_image_array[r][z]) for z in range(z_orig)] for r in range(r_orig)])\n",
    "weights = np.array([[np.array(PIL_weights_image_array[r][z]) for z in range(z_orig)] for r in range(r_orig)])"
   ]
  },
  {
   "cell_type": "code",
   "execution_count": 13,
   "metadata": {},
   "outputs": [],
   "source": [
    "# % Normalize weights to have maximum sum through rank of 1\n",
    "_, _, y_new, x_new = weights.shape\n",
    "weights_norm = np.max(np.sum(weights[:, :, y_new//2, x_new//2], axis=0, keepdims=True), axis=1)\n",
    "\n",
    "# Other normalizations\n",
    "weights = weights / weights_norm\n",
    "comps = comps/(np.linalg.norm(comps.ravel()))"
   ]
  },
  {
   "cell_type": "code",
   "execution_count": null,
   "metadata": {},
   "outputs": [],
   "source": []
  },
  {
   "cell_type": "code",
   "execution_count": null,
   "metadata": {},
   "outputs": [],
   "source": []
  },
  {
   "cell_type": "code",
   "execution_count": 14,
   "metadata": {},
   "outputs": [],
   "source": [
    "# PSF Preprocessing...\n",
    "comps = comps[:rank]\n",
    "weights = weights[:rank]\n",
    "comps = comps[:, :z_slices]\n",
    "weights = weights[:, :z_slices]"
   ]
  },
  {
   "cell_type": "code",
   "execution_count": 15,
   "metadata": {},
   "outputs": [],
   "source": [
    "# Calculate fourier transform of H\n",
    "H = fft.fft2(fft.ifftshift(fft.ifftshift(comps, axes=2), axes=3))\n",
    "alpha = weights"
   ]
  },
  {
   "cell_type": "markdown",
   "metadata": {},
   "source": [
    "# Forward Model"
   ]
  },
  {
   "cell_type": "code",
   "execution_count": 16,
   "metadata": {},
   "outputs": [],
   "source": [
    "class ForwardModel():\n",
    "    def simulate(self, v, alpha, H):\n",
    "        return self._A_svd_3d(v, alpha, H)\n",
    "    \n",
    "    def simulate_2d(self, v, alpha, H):\n",
    "        return self._A_svd_2d(v, alpha, H)\n",
    "        \n",
    "    def _create_example(self, plane):\n",
    "        \"\"\"\n",
    "        Creates and returns tf.Example from a given plane.\n",
    "        \"\"\"\n",
    "        plane_feature = tf.train.Feature(float_list=tf.train.FloatList(value=plane.ravel()))\n",
    "        feature = {\n",
    "            'plane': plane_feature\n",
    "        }\n",
    "        return tf.train.Example(features=tf.train.Features(feature=feature))\n",
    "    \n",
    "    def write(self, record_file):\n",
    "        \"\"\"\n",
    "        Writes all planes in dset to filename in output_dir\n",
    "        \"\"\"\n",
    "        with tf.io.TFRecordWriter(record_file) as writer:\n",
    "            for plane in self.dset:\n",
    "                tf_example = self._create_example(plane)\n",
    "                writer.write(tf_example.SerializeToString())\n",
    "                \n",
    "    def _A_svd_3d(self, v, alpha, H):\n",
    "        \"\"\"\n",
    "        Given a Fourier transformed H, calculates the convolution between H and alpha*v using FFT. \n",
    "        Sums up the results along the rank and all z-slices.\n",
    "        \n",
    "        Inputs:\n",
    "        - H: Components of shape (r, z, y, x)\n",
    "        - alpha: Weights of shape (r, z, y, x)\n",
    "        - v: Object of shape (z, y, x)\n",
    "        \n",
    "        Outputs:\n",
    "        - b: Simulated image of shape (y, x)\n",
    "        \"\"\"\n",
    "        b = np.real(fft.ifft2(np.sum(np.sum(H*fft.fft2(v*alpha), axis=1), axis=0)))\n",
    "        return b\n",
    "\n",
    "    def _A_svd_2d(self, v, alpha, H):\n",
    "        \"\"\"\n",
    "        Same as A_svd_3d, but reshapes v of shape (y, x) into v of shape (1, y, x)\n",
    "        Given a Fourier transformed H, calculates the convolution between H and alpha*v using FFT. \n",
    "        Sums up the results along the rank and all z-slices.\n",
    "        \n",
    "        Inputs:\n",
    "        - H: Components of shape (r, z, y, x)\n",
    "        - alpha: Weights of shape (r, z, y, x)\n",
    "        - v: Object of shape (y, x)\n",
    "        \n",
    "        Outputs:\n",
    "        - b: Simulated image of shape (y, x)\n",
    "        \"\"\"\n",
    "        y, x = v.shape\n",
    "        v = v.reshape(1, y, x)\n",
    "        b = np.real(fft.ifft2(np.sum(np.sum(H*fft.fft2(v*alpha), axis=1), axis=0)))\n",
    "        return b"
   ]
  },
  {
   "cell_type": "markdown",
   "metadata": {},
   "source": [
    "# 2D Simulations"
   ]
  },
  {
   "cell_type": "code",
   "execution_count": 17,
   "metadata": {},
   "outputs": [],
   "source": [
    "raw_plane_dataset = tf.data.TFRecordDataset(filenames=planes_file)\n",
    "feature_description = {\n",
    "    'plane': tf.io.FixedLenFeature(obj_dims, tf.float32)\n",
    "}\n",
    "def _parse_function(example_proto):\n",
    "  # Parse the input tf.Example proto using the dictionary above.\n",
    "  return tf.io.parse_single_example(example_proto, feature_description)\n",
    "parsed_dset_2d = raw_plane_dataset.map(_parse_function)"
   ]
  },
  {
   "cell_type": "code",
   "execution_count": 18,
   "metadata": {},
   "outputs": [
    {
     "data": {
      "image/png": "[encoded data removed]",
      "text/plain": [
       "<Figure size 432x288 with 2 Axes>"
      ]
     },
     "metadata": {
      "needs_background": "light"
     },
     "output_type": "display_data"
    }
   ],
   "source": [
    "# Visualize an example\n",
    "dset_iterator = iter(parsed_dset_2d)\n",
    "plane_example = next(dset_iterator)['plane'].numpy()\n",
    "\n",
    "y, x = np.nonzero(plane_example > 0.1)\n",
    "fig = plt.figure()\n",
    "ax = fig.add_subplot(111)\n",
    "sc = ax.scatter(x, y, c=plane_example[y, x])\n",
    "\n",
    "plt.colorbar(sc)\n",
    "plt.title(\"plane\")\n",
    "\n",
    "plt.show()"
   ]
  },
  {
   "cell_type": "markdown",
   "metadata": {},
   "source": [
    "# Testing for correct normalizations, etc."
   ]
  },
  {
   "cell_type": "code",
   "execution_count": 19,
   "metadata": {},
   "outputs": [],
   "source": [
    "# Saving the example as a mat file\n",
    "import scipy.io as sio\n",
    "sio.savemat('plane_example.mat', dict(plane=plane_example))"
   ]
  },
  {
   "cell_type": "code",
   "execution_count": 20,
   "metadata": {},
   "outputs": [],
   "source": [
    "## Testing\n",
    "model = ForwardModel()\n",
    "for sample in parsed_dset_2d:\n",
    "    plane = sample['plane'].numpy()\n",
    "    sim = model.simulate(plane, alpha, H).astype(np.float32)\n",
    "    break\n",
    "    \n",
    "# Save simulation with normalized weights as test\n",
    "# np.save('test.npy', sim)"
   ]
  },
  {
   "cell_type": "code",
   "execution_count": null,
   "metadata": {},
   "outputs": [],
   "source": []
  },
  {
   "cell_type": "code",
   "execution_count": 21,
   "metadata": {},
   "outputs": [
    {
     "data": {
      "image/png": "[encoded data removed]",
      "text/plain": [
       "<Figure size 432x230.4 with 3 Axes>"
      ]
     },
     "metadata": {
      "needs_background": "light"
     },
     "output_type": "display_data"
    }
   ],
   "source": [
    "# Input which simulation to visualize\n",
    "# sim_num = 4\n",
    "\n",
    "fig = plt.figure(figsize=(6, 3.2))\n",
    "\n",
    "ax = fig.add_subplot(111)\n",
    "ax.set_title('2D Image')\n",
    "plt.imshow(sim.astype(np.float32))\n",
    "ax.set_aspect('equal')\n",
    "\n",
    "cax = fig.add_axes([0.12, 0.1, 0.78, 0.8])\n",
    "cax.get_xaxis().set_visible(False)\n",
    "cax.get_yaxis().set_visible(False)\n",
    "cax.patch.set_alpha(0)\n",
    "cax.set_frame_on(False)\n",
    "plt.colorbar(orientation='vertical')\n",
    "plt.show()"
   ]
  },
  {
   "cell_type": "code",
   "execution_count": 22,
   "metadata": {},
   "outputs": [],
   "source": [
    "sim_max = np.max(sim)"
   ]
  },
  {
   "cell_type": "code",
   "execution_count": 23,
   "metadata": {},
   "outputs": [],
   "source": [
    "sim_min = np.min(sim)"
   ]
  },
  {
   "cell_type": "code",
   "execution_count": 24,
   "metadata": {},
   "outputs": [],
   "source": [
    "# Test is simulation by normalizing the images\n",
    "test = np.load('test.npy')\n",
    "\n",
    "test_max = np.max(test)\n",
    "\n"
   ]
  },
  {
   "cell_type": "code",
   "execution_count": 25,
   "metadata": {},
   "outputs": [
    {
     "data": {
      "text/plain": [
       "5723.366"
      ]
     },
     "execution_count": 25,
     "metadata": {},
     "output_type": "execute_result"
    }
   ],
   "source": [
    "sim_max"
   ]
  },
  {
   "cell_type": "code",
   "execution_count": 26,
   "metadata": {},
   "outputs": [
    {
     "data": {
      "text/plain": [
       "0.014959256"
      ]
     },
     "execution_count": 26,
     "metadata": {},
     "output_type": "execute_result"
    }
   ],
   "source": [
    "test_max"
   ]
  },
  {
   "cell_type": "code",
   "execution_count": 27,
   "metadata": {},
   "outputs": [
    {
     "data": {
      "text/plain": [
       "382620.32085561496"
      ]
     },
     "execution_count": 27,
     "metadata": {},
     "output_type": "execute_result"
    }
   ],
   "source": [
    "5724/0.01496"
   ]
  },
  {
   "cell_type": "code",
   "execution_count": 28,
   "metadata": {},
   "outputs": [],
   "source": [
    "test *= 382620.32085561496"
   ]
  },
  {
   "cell_type": "code",
   "execution_count": 29,
   "metadata": {},
   "outputs": [
    {
     "data": {
      "text/plain": [
       "5723.7153"
      ]
     },
     "execution_count": 29,
     "metadata": {},
     "output_type": "execute_result"
    }
   ],
   "source": [
    "np.max(test)"
   ]
  },
  {
   "cell_type": "code",
   "execution_count": 30,
   "metadata": {},
   "outputs": [
    {
     "data": {
      "text/plain": [
       "-170.47466"
      ]
     },
     "execution_count": 30,
     "metadata": {},
     "output_type": "execute_result"
    }
   ],
   "source": [
    "np.min(test)"
   ]
  },
  {
   "cell_type": "code",
   "execution_count": 31,
   "metadata": {},
   "outputs": [
    {
     "data": {
      "text/plain": [
       "210727150.0"
      ]
     },
     "execution_count": 31,
     "metadata": {},
     "output_type": "execute_result"
    }
   ],
   "source": [
    "np.sum(test.astype(np.float32))"
   ]
  },
  {
   "cell_type": "code",
   "execution_count": 32,
   "metadata": {},
   "outputs": [
    {
     "data": {
      "text/plain": [
       "210714370.0"
      ]
     },
     "execution_count": 32,
     "metadata": {},
     "output_type": "execute_result"
    }
   ],
   "source": [
    "np.sum(sim.astype(np.float32))"
   ]
  },
  {
   "cell_type": "code",
   "execution_count": 33,
   "metadata": {},
   "outputs": [
    {
     "data": {
      "text/plain": [
       "True"
      ]
     },
     "execution_count": 33,
     "metadata": {},
     "output_type": "execute_result"
    }
   ],
   "source": [
    "np.allclose(sim, test, rtol=4e-3, atol=0)"
   ]
  },
  {
   "cell_type": "code",
   "execution_count": 34,
   "metadata": {},
   "outputs": [
    {
     "data": {
      "text/plain": [
       "-170.46426"
      ]
     },
     "execution_count": 34,
     "metadata": {},
     "output_type": "execute_result"
    }
   ],
   "source": [
    "np.min(sim)"
   ]
  },
  {
   "cell_type": "code",
   "execution_count": 35,
   "metadata": {},
   "outputs": [],
   "source": [
    "# Comparison with MATLAB values by normalizing original by max.\n",
    "# Test and sim should be float32s"
   ]
  },
  {
   "cell_type": "code",
   "execution_count": null,
   "metadata": {},
   "outputs": [],
   "source": []
  },
  {
   "cell_type": "code",
   "execution_count": null,
   "metadata": {},
   "outputs": [],
   "source": []
  },
  {
   "cell_type": "code",
   "execution_count": 36,
   "metadata": {},
   "outputs": [
    {
     "name": "stdout",
     "output_type": "stream",
     "text": [
      "-0.029783916\n"
     ]
    }
   ],
   "source": [
    "test_normalized = test / np.max(test)\n",
    "print(np.min(test_normalized))"
   ]
  },
  {
   "cell_type": "code",
   "execution_count": 37,
   "metadata": {},
   "outputs": [
    {
     "name": "stdout",
     "output_type": "stream",
     "text": [
      "-0.029783918\n"
     ]
    }
   ],
   "source": [
    "sim_normalized = sim / np.max(sim)\n",
    "print(np.min(sim_normalized))\n",
    "\n"
   ]
  },
  {
   "cell_type": "code",
   "execution_count": 38,
   "metadata": {},
   "outputs": [],
   "source": [
    "test_min = np.min(test)"
   ]
  },
  {
   "cell_type": "code",
   "execution_count": null,
   "metadata": {},
   "outputs": [],
   "source": []
  },
  {
   "cell_type": "code",
   "execution_count": null,
   "metadata": {},
   "outputs": [],
   "source": []
  },
  {
   "cell_type": "markdown",
   "metadata": {},
   "source": [
    "# Writing to TFRecords File"
   ]
  },
  {
   "cell_type": "code",
   "execution_count": null,
   "metadata": {},
   "outputs": [],
   "source": [
    "model = ForwardModel()\n",
    "\n",
    "def _create_example(plane, sim):\n",
    "    plane_feature = tf.train.Feature(float_list=tf.train.FloatList(value=plane.ravel()))\n",
    "    sim_feature = tf.train.Feature(float_list=tf.train.FloatList(value=sim.ravel()))\n",
    "    feature = {\n",
    "        'plane': plane_feature,\n",
    "        'sim': sim_feature\n",
    "    }\n",
    "    return tf.train.Example(features=tf.train.Features(feature=feature))\n",
    "\n",
    "with tf.io.TFRecordWriter(record_file) as writer:\n",
    "    n = 0\n",
    "    sim_sum = np.zeros(obj_dims)\n",
    "    sim_sum_squared = np.zeros(obj_dims)\n",
    "    \n",
    "    for sample in parsed_dset_2d:\n",
    "        plane = sample['plane'].numpy()\n",
    "        sim = model.simulate(plane, alpha, H).astype(np.float16)\n",
    "        \n",
    "        sim_sum += sim\n",
    "        sim_sum_squared += np.square(sim)\n",
    "        \n",
    "        tf_example = _create_example(plane, sim)\n",
    "        writer.write(tf_example.SerializeToString())\n",
    "        n += 1\n",
    "        if n % 500 == 0:\n",
    "            print(n)"
   ]
  },
  {
   "cell_type": "code",
   "execution_count": null,
   "metadata": {},
   "outputs": [],
   "source": [
    "print(n)"
   ]
  },
  {
   "cell_type": "code",
   "execution_count": null,
   "metadata": {},
   "outputs": [],
   "source": [
    "means = sim_sum / n\n",
    "stds = np.sqrt(sim_sum_squared/n - np.square(means))\n",
    "plane_sims_info = {'means': means.tolist(), 'stds': stds.tolist()}\n",
    "\n",
    "with open(info_file, 'w') as info_f:\n",
    "    json.dump(plane_sims_info, info_f)"
   ]
  },
  {
   "cell_type": "code",
   "execution_count": null,
   "metadata": {},
   "outputs": [],
   "source": []
  },
  {
   "cell_type": "code",
   "execution_count": null,
   "metadata": {},
   "outputs": [],
   "source": []
  },
  {
   "cell_type": "code",
   "execution_count": null,
   "metadata": {},
   "outputs": [],
   "source": []
  },
  {
   "cell_type": "code",
   "execution_count": null,
   "metadata": {},
   "outputs": [],
   "source": [
    "dataset_2d = np.load(dataset_2d_path)['planes']"
   ]
  },
  {
   "cell_type": "code",
   "execution_count": null,
   "metadata": {},
   "outputs": [],
   "source": [
    "print(dataset_2d.shape)"
   ]
  },
  {
   "cell_type": "code",
   "execution_count": null,
   "metadata": {},
   "outputs": [],
   "source": [
    "j=4\n",
    "plane = dataset_2d[j]\n",
    "y, x = np.nonzero(plane > 0.1)\n",
    "fig = plt.figure()\n",
    "ax = fig.add_subplot(111)\n",
    "sc = ax.scatter(x, y, c=plane[y, x])\n",
    "\n",
    "plt.colorbar(sc)\n",
    "plt.title(\"plane #\" + str(j))\n",
    "\n",
    "plt.show()"
   ]
  },
  {
   "cell_type": "code",
   "execution_count": null,
   "metadata": {},
   "outputs": [],
   "source": [
    "print(dataset_2d.shape)"
   ]
  },
  {
   "cell_type": "code",
   "execution_count": null,
   "metadata": {},
   "outputs": [],
   "source": [
    "model = ForwardModel()\n",
    "\n",
    "n, y, x = dataset_2d.shape\n",
    "output_array = np.zeros((n, y, x))"
   ]
  },
  {
   "cell_type": "code",
   "execution_count": null,
   "metadata": {},
   "outputs": [],
   "source": [
    "for i in range(n):\n",
    "    output_array[i] = model.simulate_2d(dataset_2d[i], alpha, H)\n",
    "    if (i % 100 == 0):\n",
    "        print(i)"
   ]
  },
  {
   "cell_type": "code",
   "execution_count": null,
   "metadata": {},
   "outputs": [],
   "source": [
    "# Normalize all values to between -1 and 1\n",
    "output_array = output_array / np.max(np.abs(output_array))"
   ]
  },
  {
   "cell_type": "code",
   "execution_count": null,
   "metadata": {},
   "outputs": [],
   "source": [
    "np.savez_compressed(output_2d_path, plane_sims=output_array)"
   ]
  },
  {
   "cell_type": "code",
   "execution_count": null,
   "metadata": {},
   "outputs": [],
   "source": [
    "print(output_array.astype('float16'))"
   ]
  },
  {
   "cell_type": "code",
   "execution_count": null,
   "metadata": {},
   "outputs": [],
   "source": [
    "print(output_array.nbytes / 1e9)"
   ]
  },
  {
   "cell_type": "code",
   "execution_count": null,
   "metadata": {},
   "outputs": [],
   "source": [
    "output_array_mean = np.mean(output_array, axis=0)"
   ]
  },
  {
   "cell_type": "code",
   "execution_count": null,
   "metadata": {},
   "outputs": [],
   "source": [
    "output_array_sd = np.std(output_array, axis=0)"
   ]
  },
  {
   "cell_type": "code",
   "execution_count": null,
   "metadata": {},
   "outputs": [],
   "source": [
    "# Input which simulation to visualize\n",
    "sim_num = 4\n",
    "\n",
    "fig = plt.figure(figsize=(6, 3.2))\n",
    "\n",
    "ax = fig.add_subplot(111)\n",
    "ax.set_title('2D Image')\n",
    "plt.imshow(output_array[sim_num])\n",
    "ax.set_aspect('equal')\n",
    "\n",
    "cax = fig.add_axes([0.12, 0.1, 0.78, 0.8])\n",
    "cax.get_xaxis().set_visible(False)\n",
    "cax.get_yaxis().set_visible(False)\n",
    "cax.patch.set_alpha(0)\n",
    "cax.set_frame_on(False)\n",
    "plt.colorbar(orientation='vertical')\n",
    "plt.show()"
   ]
  },
  {
   "cell_type": "code",
   "execution_count": null,
   "metadata": {},
   "outputs": [],
   "source": [
    "print(output_array[sim_num].shape)"
   ]
  },
  {
   "cell_type": "markdown",
   "metadata": {},
   "source": [
    "# 3D Simulations"
   ]
  },
  {
   "cell_type": "code",
   "execution_count": null,
   "metadata": {},
   "outputs": [],
   "source": [
    "dataset = np.load(dataset_path)"
   ]
  },
  {
   "cell_type": "code",
   "execution_count": null,
   "metadata": {},
   "outputs": [],
   "source": [
    "model = ForwardModel()\n",
    "\n",
    "n, z, y, x = dataset.shape\n",
    "output_array = np.zeros((n, y, x))\n",
    "for i in range(n):\n",
    "    output_array[i] = model.simulate(dataset[i], alpha, H)\n",
    "    print(i)"
   ]
  },
  {
   "cell_type": "code",
   "execution_count": null,
   "metadata": {},
   "outputs": [],
   "source": [
    "output_array.shape"
   ]
  },
  {
   "cell_type": "code",
   "execution_count": null,
   "metadata": {},
   "outputs": [],
   "source": [
    "np.save(output_path, output_array)"
   ]
  },
  {
   "cell_type": "code",
   "execution_count": null,
   "metadata": {},
   "outputs": [],
   "source": [
    "# Input which simulation to visualize\n",
    "sim_num = 3\n",
    "\n",
    "import matplotlib.pyplot as plt\n",
    "fig = plt.figure(figsize=(6, 3.2))\n",
    "\n",
    "ax = fig.add_subplot(111)\n",
    "ax.set_title('2D Image')\n",
    "plt.imshow(output_array[sim_num])\n",
    "ax.set_aspect('equal')\n",
    "\n",
    "cax = fig.add_axes([0.12, 0.1, 0.78, 0.8])\n",
    "cax.get_xaxis().set_visible(False)\n",
    "cax.get_yaxis().set_visible(False)\n",
    "cax.patch.set_alpha(0)\n",
    "cax.set_frame_on(False)\n",
    "plt.colorbar(orientation='vertical')\n",
    "plt.show()"
   ]
  },
  {
   "cell_type": "code",
   "execution_count": null,
   "metadata": {},
   "outputs": [],
   "source": [
    "# Save output array\n",
    "# sio.savemat('../data/python_output' + str(volume_num) + '_rank' + str(rank) + '.mat', dict(volume=output))"
   ]
  },
  {
   "cell_type": "code",
   "execution_count": null,
   "metadata": {},
   "outputs": [],
   "source": [
    "# Original 'object'\n",
    "from mpl_toolkits.mplot3d import Axes3D\n",
    "z, y, x = np.nonzero(dataset[sim_num] > 0.1)\n",
    "fig = plt.figure()\n",
    "ax = fig.add_subplot(111, projection='3d')\n",
    "sc = ax.scatter(x, z, y, zdir='z')\n",
    "plt.title('Original')\n",
    "plt.show()"
   ]
  },
  {
   "cell_type": "code",
   "execution_count": null,
   "metadata": {},
   "outputs": [],
   "source": [
    "# Comparison with MATLAB implementation\n",
    "mat_output_path = '../data/output.mat'\n",
    "mat_output = sio.loadmat(mat_output_path)\n",
    "mat_output = mat_output['output'].transpose(1, 0)"
   ]
  },
  {
   "cell_type": "code",
   "execution_count": null,
   "metadata": {},
   "outputs": [],
   "source": [
    "# Visualize mat_output\n",
    "fig = plt.figure(figsize=(6, 3.2))\n",
    "\n",
    "ax = fig.add_subplot(111)\n",
    "ax.set_title('2D Image MATLAB')\n",
    "plt.imshow(mat_output)\n",
    "ax.set_aspect('equal')\n",
    "\n",
    "cax = fig.add_axes([0.12, 0.1, 0.78, 0.8])\n",
    "cax.get_xaxis().set_visible(False)\n",
    "cax.get_yaxis().set_visible(False)\n",
    "cax.patch.set_alpha(0)\n",
    "cax.set_frame_on(False)\n",
    "plt.colorbar(orientation='vertical')\n",
    "plt.show()"
   ]
  },
  {
   "cell_type": "code",
   "execution_count": null,
   "metadata": {},
   "outputs": [],
   "source": [
    "# Plot reconstructed volume."
   ]
  },
  {
   "cell_type": "code",
   "execution_count": null,
   "metadata": {},
   "outputs": [],
   "source": [
    "reconstructed_path = '../data/reconstructedVolume.mat'\n",
    "reconstructed = sio.loadmat(reconstructed_path)"
   ]
  },
  {
   "cell_type": "code",
   "execution_count": null,
   "metadata": {},
   "outputs": [],
   "source": [
    "recons = reconstructed['xhat_out']\n",
    "recons = recons.transpose(2, 1, 0)"
   ]
  },
  {
   "cell_type": "code",
   "execution_count": null,
   "metadata": {},
   "outputs": [],
   "source": [
    "recons.shape"
   ]
  },
  {
   "cell_type": "code",
   "execution_count": null,
   "metadata": {},
   "outputs": [],
   "source": [
    "import matplotlib.pyplot as plt\n",
    "from mpl_toolkits.mplot3d import Axes3D\n",
    "\n",
    "z, y, x = np.nonzero(recons > 1.5)\n",
    "fig = plt.figure()\n",
    "ax = fig.add_subplot(111, projection='3d')\n",
    "sc = ax.scatter(x, z, y, zdir='z')\n",
    "plt.colorbar(sc)\n",
    "plt.title(\"Reconstructed volume\")\n",
    "plt.show()"
   ]
  },
  {
   "cell_type": "code",
   "execution_count": null,
   "metadata": {},
   "outputs": [],
   "source": [
    "# Original 'object'\n",
    "from mpl_toolkits.mplot3d import Axes3D\n",
    "\n",
    "z, y, x = np.nonzero(v)\n",
    "fig = plt.figure()\n",
    "ax = fig.add_subplot(111, projection='3d')\n",
    "sc = ax.scatter(x, z, y, zdir='z')\n",
    "plt.title('Original')\n",
    "plt.show()"
   ]
  },
  {
   "cell_type": "markdown",
   "metadata": {},
   "source": [
    "# Single point in a plane"
   ]
  },
  {
   "cell_type": "code",
   "execution_count": null,
   "metadata": {},
   "outputs": [],
   "source": [
    "figure = plt.figure()\n",
    "figure.add_subplot(1, 2, 1)\n",
    "plane = np.zeros((648, 486))\n",
    "plane[300, 240] = 1\n",
    "y, x = np.nonzero(plane)\n",
    "plt.scatter(y, x)\n",
    "plt.xlim(0, 486)\n",
    "plt.ylim(0, 648)\n",
    "\n",
    "model = ForwardModel()\n",
    "point_sim = model.simulate_2d(plane, alpha, H)\n",
    "\n",
    "figure.add_subplot(1, 2, 2)\n",
    "plt.imshow(point_sim)\n",
    "plt.show()"
   ]
  },
  {
   "cell_type": "markdown",
   "metadata": {},
   "source": [
    "# Simulating real data beads"
   ]
  },
  {
   "cell_type": "code",
   "execution_count": null,
   "metadata": {},
   "outputs": [],
   "source": [
    "from PIL import Image\n",
    "import PIL\n",
    "import numpy as np"
   ]
  },
  {
   "cell_type": "code",
   "execution_count": null,
   "metadata": {},
   "outputs": [],
   "source": [
    "real_data_path = path.join('..', 'data', '2d_data', 'real_data', 'realData.mat')\n",
    "ground_truth_path = path.join('..', 'data', '2d_data', 'real_data', 'beads_GT.png')"
   ]
  },
  {
   "cell_type": "code",
   "execution_count": null,
   "metadata": {},
   "outputs": [],
   "source": [
    "beads_im = Image.open(ground_truth_path)\n",
    "beads = np.array(beads_im).T"
   ]
  },
  {
   "cell_type": "code",
   "execution_count": null,
   "metadata": {},
   "outputs": [],
   "source": [
    "# Normalize beads from 0 to 1\n",
    "beads_normalized = (beads - np.min(beads)) / (np.max(beads) - np.min(beads))"
   ]
  },
  {
   "cell_type": "code",
   "execution_count": null,
   "metadata": {},
   "outputs": [],
   "source": [
    "print(np.min(beads))"
   ]
  },
  {
   "cell_type": "code",
   "execution_count": null,
   "metadata": {},
   "outputs": [],
   "source": [
    "print(np.max(beads))"
   ]
  },
  {
   "cell_type": "code",
   "execution_count": null,
   "metadata": {},
   "outputs": [],
   "source": [
    "print(np.max(beads_normalized))\n",
    "print(np.max(beads))"
   ]
  },
  {
   "cell_type": "code",
   "execution_count": null,
   "metadata": {},
   "outputs": [],
   "source": [
    "model = ForwardModel()"
   ]
  },
  {
   "cell_type": "code",
   "execution_count": null,
   "metadata": {},
   "outputs": [],
   "source": [
    "beads_sim_normalized = model.simulate_2d(beads_normalized, alpha, H)\n",
    "beads_sim = model.simulate_2d(beads, alpha, H)"
   ]
  },
  {
   "cell_type": "code",
   "execution_count": null,
   "metadata": {},
   "outputs": [],
   "source": [
    "print(np.max(beads_sim_normalized))"
   ]
  },
  {
   "cell_type": "code",
   "execution_count": null,
   "metadata": {},
   "outputs": [],
   "source": [
    "# Read in older mat files with scipy.io\n",
    "data = sio.loadmat(real_data_path)"
   ]
  },
  {
   "cell_type": "code",
   "execution_count": null,
   "metadata": {},
   "outputs": [],
   "source": [
    "beads_given, resTarget = data['beads'], data['resTarget']"
   ]
  },
  {
   "cell_type": "code",
   "execution_count": null,
   "metadata": {},
   "outputs": [],
   "source": [
    "beads_downsampled = np.array(Image.fromarray(beads_given).resize(obj_dims, resample=PIL.Image.NEAREST)).astype(np.float16)\n",
    "resTarget_downsampled = np.array(Image.fromarray(resTarget).resize(np.flip(obj_dims), resample=PIL.Image.NEAREST)).astype(np.float16)"
   ]
  },
  {
   "cell_type": "code",
   "execution_count": null,
   "metadata": {},
   "outputs": [],
   "source": [
    "np.max(beads_downsampled)"
   ]
  },
  {
   "cell_type": "code",
   "execution_count": null,
   "metadata": {},
   "outputs": [],
   "source": [
    "np.max(beads_sim_normalized)"
   ]
  },
  {
   "cell_type": "code",
   "execution_count": null,
   "metadata": {},
   "outputs": [],
   "source": []
  },
  {
   "cell_type": "code",
   "execution_count": null,
   "metadata": {},
   "outputs": [],
   "source": [
    "fig = plt.figure(figsize=(30, 30))\n",
    "f0 = fig.add_subplot(1, 3, 1)\n",
    "f0.set_title('beads')\n",
    "f0.imshow(beads.T)\n",
    "\n",
    "f1 = fig.add_subplot(1, 3, 2)\n",
    "f1.set_title('my simulation, rank 24') # Normalized before simulation, but not after\n",
    "f1.imshow(beads_sim_normalized.T)\n",
    "\n",
    "\n",
    "# f2 = fig.add_subplot(1, 3, 2)\n",
    "# f2.set_title('beads, not normalized')\n",
    "# f2.imshow(beads_sim.T)\n",
    "\n",
    "f3 = fig.add_subplot(1, 3, 3)\n",
    "f3.set_title('original')\n",
    "f3.imshow(beads_downsampled.astype(np.float32))\n",
    "\n",
    "plt.show()"
   ]
  },
  {
   "cell_type": "code",
   "execution_count": null,
   "metadata": {},
   "outputs": [],
   "source": [
    "beads_given_normalized = (beads_downsampled - np.min(beads_given)) / (np.max(beads_downsampled) - np.min(beads_downsampled))"
   ]
  },
  {
   "cell_type": "code",
   "execution_count": null,
   "metadata": {},
   "outputs": [],
   "source": [
    "beads_sim_normalized_normalized = (beads_sim_normalized - np.min(beads_sim_normalized)) / (np.max(beads_sim_normalized) - np.min(beads_sim_normalized))"
   ]
  },
  {
   "cell_type": "code",
   "execution_count": null,
   "metadata": {},
   "outputs": [],
   "source": [
    "np.max(beads_given_normalized)"
   ]
  },
  {
   "cell_type": "code",
   "execution_count": null,
   "metadata": {},
   "outputs": [],
   "source": [
    "np.max(beads_sim_normalized_normalized)"
   ]
  },
  {
   "cell_type": "code",
   "execution_count": null,
   "metadata": {},
   "outputs": [],
   "source": [
    "num_pixels = np.prod(np.shape(beads_given_normalized))"
   ]
  },
  {
   "cell_type": "code",
   "execution_count": null,
   "metadata": {},
   "outputs": [],
   "source": [
    "m2 = np.sum(beads_given_normalized) / num_pixels"
   ]
  },
  {
   "cell_type": "code",
   "execution_count": null,
   "metadata": {},
   "outputs": [],
   "source": [
    "m1 = np.sum(beads_sim_normalized_normalized) / num_pixels"
   ]
  },
  {
   "cell_type": "code",
   "execution_count": null,
   "metadata": {},
   "outputs": [],
   "source": [
    "m2 - m1"
   ]
  },
  {
   "cell_type": "code",
   "execution_count": null,
   "metadata": {},
   "outputs": [],
   "source": [
    "(m1 - m2) * num_pixels"
   ]
  },
  {
   "cell_type": "code",
   "execution_count": null,
   "metadata": {},
   "outputs": [],
   "source": [
    "np.save('../test', beads_sim_normalized_normalized)"
   ]
  },
  {
   "cell_type": "code",
   "execution_count": null,
   "metadata": {},
   "outputs": [],
   "source": [
    "print(beads_downsampled.nonzero()[:5][:5])"
   ]
  },
  {
   "cell_type": "code",
   "execution_count": null,
   "metadata": {},
   "outputs": [],
   "source": [
    "print(beads_downsampled[485, 640:645])"
   ]
  },
  {
   "cell_type": "code",
   "execution_count": null,
   "metadata": {},
   "outputs": [],
   "source": []
  }
 ],
 "metadata": {
  "kernelspec": {
   "display_name": "Python 3",
   "language": "python",
   "name": "python3"
  },
  "language_info": {
   "codemirror_mode": {
    "name": "ipython",
    "version": 3
   },
   "file_extension": ".py",
   "mimetype": "text/x-python",
   "name": "python",
   "nbconvert_exporter": "python",
   "pygments_lexer": "ipython3",
   "version": "3.6.9"
  }
 },
 "nbformat": 4,
 "nbformat_minor": 2
}
