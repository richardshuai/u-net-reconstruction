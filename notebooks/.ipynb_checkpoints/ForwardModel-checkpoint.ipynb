{
 "cells": [
  {
   "cell_type": "code",
   "execution_count": 1,
   "metadata": {},
   "outputs": [],
   "source": [
    "import numpy as np\n",
    "import numpy.fft as fft\n",
    "from PIL import Image\n",
    "import matplotlib.pyplot as plt\n",
    "\n",
    "import scipy.io as sio\n",
    "import h5py"
   ]
  },
  {
   "cell_type": "code",
   "execution_count": 2,
   "metadata": {},
   "outputs": [],
   "source": [
    "## Parameters\n",
    "rank = 12\n",
    "ds_psf = 2\n",
    "z_slices = 1\n",
    "\n",
    "# Choose volume number to load\n",
    "# volume_num = 4"
   ]
  },
  {
   "cell_type": "code",
   "execution_count": 3,
   "metadata": {},
   "outputs": [],
   "source": [
    "# Input filepaths\n",
    "comps_path = '../data/PSFs/SVD_2_5um_PSF_5um_1_ds2_components_green_SubAvg.mat'\n",
    "weights_path = '../data/PSFs/SVD_2_5um_PSF_5um_1_ds2_weights_interp_green_SubAvg.mat'\n",
    "# v_path = '../data/volumes/volume' + str(volume_num) + '.npy'\n",
    "# dataset_path = '../data/volumes/volumes_300_15_648_486_1.npy'\n",
    "dataset_2d_path = '../data/2d_data/planes/planes_1100_648_486_1.npy'\n",
    "# output_path = '../data/sims/sim_sets/sim_set_z_15'\n",
    "output_2d_path = '../data/2d_data/plane_sims/plane_sim_1100_648_486_1'"
   ]
  },
  {
   "cell_type": "code",
   "execution_count": 4,
   "metadata": {},
   "outputs": [],
   "source": [
    "# Read in Matlab v7.3 files with h5py.\n",
    "# Stores output as comps and weights.\n",
    "\n",
    "comps_file = h5py.File(comps_path, 'r')\n",
    "for k, v in comps_file.items():\n",
    "    comps = np.array(v)\n",
    "    \n",
    "weights_file = h5py.File(weights_path, 'r')\n",
    "for k, v in weights_file.items():\n",
    "    weights = np.array(v)"
   ]
  },
  {
   "cell_type": "code",
   "execution_count": 5,
   "metadata": {},
   "outputs": [],
   "source": [
    "# Transpose axes to get both arrays into shape (r, z, y, x)\n",
    "comps = comps.transpose(1, 0, 2, 3)\n",
    "weights = weights.transpose(1, 0, 2, 3)"
   ]
  },
  {
   "cell_type": "code",
   "execution_count": 6,
   "metadata": {},
   "outputs": [],
   "source": [
    "r_orig, z_orig, y_orig, x_orig = comps.shape"
   ]
  },
  {
   "cell_type": "code",
   "execution_count": 7,
   "metadata": {},
   "outputs": [],
   "source": [
    "## New params\n",
    "# init_style currently unused\n",
    "options = {}\n",
    "options['color_map'] = 'parula'\n",
    "options['convTol'] = 15e-4\n",
    "\n",
    "# options.xsize = [256,256];\n",
    "options['maxIter'] = 2000\n",
    "options['residTol'] = 5e-5\n",
    "options['momentum'] = 'nesterov'\n",
    "options['disp_figs'] = 1\n",
    "options['disp_fig_interval'] = 40   # display image this often\n",
    "\n",
    "options['xsize']=[z_orig, y_orig, x_orig]\n",
    "options['print_interval'] = 20\n",
    "\n",
    "\n",
    "options['stepsize'] = 0.7e-3\n",
    "\n",
    "params = {}\n",
    "\n",
    "params['tau1'] = options['stepsize']*.3e-3 # was 0.5e-7   #.000005 works pretty well for v1 camera, .0002 for v2\n",
    "params['tau_soft'] = options['stepsize'] * 3e-3\n",
    "tau_iso = (.25e-4)\n",
    "params['z_tv_weight'] = 1    # z weighting in anisotropic TV\n",
    "tau2 = .001  # Auxilliary\n",
    "\n",
    "TVnorm3d = lambda x: sum(sum(sum(abs(x))))\n"
   ]
  },
  {
   "cell_type": "code",
   "execution_count": 8,
   "metadata": {},
   "outputs": [],
   "source": [
    "# Downsampling shape calculation. Must be flipped for use in PIL.Image.resize()\n",
    "ds_shape = (np.array(comps.shape[2:]) / ds_psf).astype(int)"
   ]
  },
  {
   "cell_type": "code",
   "execution_count": 9,
   "metadata": {},
   "outputs": [],
   "source": [
    "# Convert each image slice into PIL image and store in array of shape (r, z)\n",
    "PIL_comps_image_array = [[Image.fromarray(comps[r, z]) for z in range(z_orig)] for r in range(r_orig)]\n",
    "PIL_weights_image_array = [[Image.fromarray(weights[r, z])for z in range(z_orig)] for r in range(r_orig)]\n",
    "\n",
    "# Downsample each PIL image in the array\n",
    "PIL_comps_image_array = [[PIL_comps_image_array[r][z].resize(np.flip(ds_shape), resample=Image.BOX) \n",
    "                             for z in range(z_orig)] for r in range(r_orig)]\n",
    "PIL_weights_image_array = [[PIL_weights_image_array[r][z].resize(np.flip(ds_shape), resample=Image.BOX) \n",
    "                             for z in range(z_orig)] for r in range(r_orig)]\n",
    "\n",
    "# Convert each PIL image back into numpy array, return to numpy array of shape (r, z, y, x)\n",
    "comps = np.array([[np.array(PIL_comps_image_array[r][z]) for z in range(z_orig)] for r in range(r_orig)])\n",
    "weights = np.array([[np.array(PIL_weights_image_array[r][z]) for z in range(z_orig)] for r in range(r_orig)])"
   ]
  },
  {
   "cell_type": "code",
   "execution_count": 10,
   "metadata": {},
   "outputs": [],
   "source": [
    "# PSF Preprocessing...\n",
    "comps = comps[:rank]\n",
    "weights = weights[:rank]\n",
    "comps = comps[:, :z_slices]\n",
    "weights = weights[:, :z_slices]"
   ]
  },
  {
   "cell_type": "code",
   "execution_count": 11,
   "metadata": {},
   "outputs": [],
   "source": [
    "# Calculate fourier transform of H\n",
    "H = fft.fft2(fft.ifftshift(fft.ifftshift(comps, axes=2), axes=3))\n",
    "alpha = weights"
   ]
  },
  {
   "cell_type": "code",
   "execution_count": 12,
   "metadata": {},
   "outputs": [],
   "source": [
    "# H_conj = np.conj(H)\n"
   ]
  },
  {
   "cell_type": "code",
   "execution_count": 13,
   "metadata": {},
   "outputs": [],
   "source": [
    "class ForwardModel():\n",
    "    def simulate(self, v, alpha, H):\n",
    "        return self._A_svd_3d(v, alpha, H)\n",
    "    \n",
    "    def simulate_2d(self, v, alpha, H):\n",
    "        return self._A_svd_2d(v, alpha, H)\n",
    "    \n",
    "    def reconstruct(self):\n",
    "        x_init = np.zeros(z_orig, y_orig, x_orig)\n",
    "        # grad_handle = @(x)linear_gradient_b(x, A, Aadj, single(b));\n",
    "        grad_handle = lambda x: self._linear_gradient_b(x, A, A_adj, b.astype(np.float32))\n",
    "        # prox_handle = @(x)deal(1/2*(max(x,0) + (tv3d_iso_Haar((x), params.tau1, params.z_tv_weight))), \n",
    "        #                                params.tau1*TVnorm3d(x));\n",
    "        prox_handle = lambda x: (1/2 * (np.max(x, 0) + (self._tv3d_iso_Haar(x, params['tau1'], params['z_tv_weight']))), \n",
    "                                     params['tau1']*TVnorm3d(x))\n",
    "        \n",
    "        (x_hat, f2) = self.proxMin(grad_handle, prox_handle, x_init, b, options)\n",
    "\n",
    "        pass\n",
    "        \n",
    "    \n",
    "    def _linear_gradient_b(x, A, At, b): \n",
    "        \"\"\"\n",
    "        Generalized gradient step for ||Ax-b|| cost function\n",
    "        Takes in variable, x, linear operator, A, and adjoint, At. Does not\n",
    "        require passing in Atb\n",
    "        \n",
    "        Outputs: \n",
    "        - g: Gradient. Does not need to be a vector.\n",
    "        - f: Cost function value\n",
    "        \"\"\"\n",
    "        u = A(x)\n",
    "        g = At(u - b)\n",
    "        f = np.linalg.norm(u[:] - b[:])\n",
    "    \n",
    "    def _A_svd_3d(self, v, alpha, H):\n",
    "        \"\"\"\n",
    "        Given a Fourier transformed H, calculates the convolution between H and alpha*v using FFT. \n",
    "        Sums up the results along the rank and all z-slices.\n",
    "        \n",
    "        Inputs:\n",
    "        - H: Components of shape (r, z, y, x)\n",
    "        - alpha: Weights of shape (r, z, y, x)\n",
    "        - v: Object of shape (z, y, x)\n",
    "        \n",
    "        Outputs:\n",
    "        - b: Simulated image of shape (y, x)\n",
    "        \"\"\"\n",
    "        b = np.real(fft.ifft2(np.sum(np.sum(H*fft.fft2(v*alpha), axis=1), axis=0)))\n",
    "        return b\n",
    "\n",
    "    def _A_svd_2d(self, v, alpha, H):\n",
    "        \"\"\"\n",
    "        Same as A_svd_3d, but reshapes v of shape (y, x) into v of shape (1, y, x)\n",
    "        Given a Fourier transformed H, calculates the convolution between H and alpha*v using FFT. \n",
    "        Sums up the results along the rank and all z-slices.\n",
    "        \n",
    "        Inputs:\n",
    "        - H: Components of shape (r, z, y, x)\n",
    "        - alpha: Weights of shape (r, z, y, x)\n",
    "        - v: Object of shape (y, x)\n",
    "        \n",
    "        Outputs:\n",
    "        - b: Simulated image of shape (y, x)\n",
    "        \"\"\"\n",
    "        y, x = v.shape\n",
    "        v = v.reshape(1, y, x)\n",
    "        b = np.real(fft.ifft2(np.sum(np.sum(H*fft.fft2(v*alpha), axis=1), axis=0)))\n",
    "        return b\n",
    "\n",
    "    \n",
    "    def _A_adj_svd_3d(self, b, alpha, H_conj):\n",
    "        Atb = np.sum(alpha * np.real(fft.ifft2(H_conj*fft.fft2(b))), axis=0)\n",
    "        return Atb\n",
    "    \n",
    "    \n",
    "    \n",
    "#     def A_svd_2d(self, H, weights, X):\n",
    "#         Y = np.zeros(X.shape)\n",
    "#         for r in range(0, H.shape[0]):\n",
    "#             fX = fft.fft2(weights[:, :, r]*X)\n",
    "#             Y = Y + (fX * H[:, :, r])\n",
    "#         return crop(fft.ifft2(Y))\n",
    "    \n",
    "#     def A_adj_svd(self, H_conj, weights, y):\n",
    "#         x = np.sum(weights * np.real(fft.ifft2(H_conj * fft.fft2(self._pad(y)))), axis=0)\n",
    "#         return x\n",
    "    \n",
    "#     def _pad(self, M):\n",
    "#         y_pad = M.shape[2] // 2\n",
    "#         x_pad = M.shape[3] // 2\n",
    "#         return np.pad(M, ((0, ), (0, ), (y_pad, ), (x_pad, )), mode='constant')\n",
    "    \n",
    "#     def _crop(self, M):\n",
    "#         y_start = M.shape[2] / 2\n",
    "#         y_end = M.shape[2] - y_start\n",
    "#         x_start = M.shape[3] / 2\n",
    "#         x_end = M.shape[3] - x_start\n",
    "#         return M[:, y_start:y_end, x_start:x_end]\n",
    "\n",
    "    def proxMin(GradErrHandle, ProxFunc, xk, b, options):\n",
    "#         if not isa(GradErrHandle,'function_handle'):\n",
    "#             GradErrHandle = @(x) matrixError(GradErrHandle,transpose(GradErrHandle),x,b);\n",
    "#         end\n",
    "        if 'convTol' not in options:\n",
    "            options['convTol'] = 1e-9\n",
    "        if 'residTol' not in options:\n",
    "            options['residTol'] = 1e-2\n",
    "        if 'xsize' not in options:\n",
    "            options['xsize'] = size(A,2)\n",
    "        if 'momentum' not in options:\n",
    "            options['momentum'] = 'nesterov'\n",
    "        if 'disp_figs' not in options:\n",
    "            options['disp_figs'] = 0\n",
    "\n",
    "        if 'restarting' not in options:\n",
    "            options['restarting'] = 0\n",
    "        if 'print_interval' not in options:\n",
    "            options['print_interval'] = 1\n",
    "        if 'color_map' not in options:\n",
    "            options['color_map'] = 'parula'\n",
    "        if 'save_progress' not in options:\n",
    "            options['save_progress'] = 0\n",
    "        if 'restart_interval' not in options:\n",
    "            options['restart_interval'] = 0\n",
    "        if 'disp_crop' not in options:\n",
    "            options['disp_crop'] = lambda x: x\n",
    "        if 'disp_prctl' not in options:\n",
    "            options['disp_prctl'] = 99.999\n",
    "         \n",
    "        # if options.save_progress\n",
    "        #     if ~isfield(options,'save_progress')\n",
    "        #         options.progress_file = 'prox_progress.avi';\n",
    "        #     end\n",
    "        #     if exist(options.progress_file,'file')\n",
    "        #         overwrite_mov = input('video file exists. Overwrite? y to overwrite, n to abort.');\n",
    "        #         if strcmpi(overwrite_mov,'n')\n",
    "        #             new_mov_name = input('input new name (no extension): ');\n",
    "        #             options.progress_file = [new_mov_name,'.avi'];\n",
    "        #         end\n",
    "        #     end\n",
    "        #     options.vidObj = VideoWriter(options.progress_file);\n",
    "        #     open(options.vidObj);\n",
    "        # end\n",
    "        step_num = 0\n",
    "        yk = xk\n",
    "        # fun_val = zeros([options.maxIter,1],'like',xk);\n",
    "        fun_val = np.zeros([options['maxIter'], 1], dtype=xk.dtype)\n",
    "        # step_size = options.stepsize*ones(1,'like',xk);\n",
    "        step_size = options['stepsize'] * np.ones((1,), dtype=xk.dtype)\n",
    "        # fm1 = zeros(1,'like',xk);\n",
    "        fm1 = np.zeros((1,), dtype=xk.dtype)\n",
    "        f = np.inf\n",
    "        \n",
    "        if options['momentum'] == 'linear':\n",
    "            while (step_num < options['maxIter']) and (f > options['residTol']):\n",
    "                step_num = step_num + 1\n",
    "                (f, g) = GradErrHandle(yk)\n",
    "                fun_val[step_num] = f\n",
    "                x_t1 = yk - step_size*g\n",
    "                yk = ProxFunc(x_t1)\n",
    "                \n",
    "                if abs(fm1-f) < options['convTol']:\n",
    "                    print('Answer is stable to within convTol. Stopping.\\n')\n",
    "                    out = yk;\n",
    "                    break\n",
    "                fm1 = f\n",
    "                \n",
    "                print('%i\\t%6.4e\\n'% (step_num,f))\n",
    "        elif options['momentum'] == 'nesterov':\n",
    "            tk = np.ones((1,), dtype=xk.dtype)\n",
    "            yk = xk\n",
    "            f = 1e12*ones(1,'like',xk)\n",
    "            f_kp1 = f\n",
    "            # tic\n",
    "\n",
    "        while (step_num < options['maxIter']) and (f>options['residTol']):\n",
    "            step_num = step_num + 1\n",
    "            [f_kp1, g] = GradErrHandle(yk)\n",
    "            fun_val[step_num] = f_kp1\n",
    "            # fun_val(step_num) = norm(options.xin-options.crop(yk),'fro')/norm(options.xin,'fro');\n",
    "            [x_kp1, norm_x] = ProxFunc(yk-options.stepsize*g)\n",
    "            fun_val[step_num] = fun_val[step_num] + norm_x\n",
    "\n",
    "            t_kp1 = (1+sqrt(1+4*tk**2))/2;\n",
    "            beta_kp1 = (tk-1)/t_kp1;\n",
    "            \n",
    "            #  restart = (yk(:)-x_kp1(:))'*vec(x_kp1 - xk);  %dx(:);\n",
    "\n",
    "            restart = (yk[:]-x_kp1[:])*vec(x_kp1 - xk)  #dx(:);\n",
    "            yk = x_kp1+beta_kp1*(x_kp1 - xk);\n",
    "            \n",
    "            \n",
    "\n",
    "            \n",
    "            if step_num == 1:\n",
    "                if options['known_input']:\n",
    "                    print('Iteration \\t objective \\t ||x|| \\t momentum \\t MSE \\t PSNR\\n')\n",
    "                else:\n",
    "                    print('Iter\\t ||Ax-b|| \\t ||x|| \\t Obj \\t sparsity \\t momentum \\t elapsed time\\n')\n",
    "            if restart<0 and (step_num % options['restart_interval']) == 0:\n",
    "                print('reached momentum reset interval\\n')\n",
    "                restart = np.inf\n",
    "            \n",
    "            if not step_num % options['print_interval']:\n",
    "                if options['known_input']:\n",
    "                    print('%i\\t %6.4e\\t %6.4e\\t %.3f\\t %6.4e\\t %.2f dB\\n' % (step_num,f,norm_x,tk,norm(options.xin[:] - yk[:]), psnr(gather(yk),options.xin,255)))\n",
    "                else:\n",
    "#                    telapse = toc; !!!\n",
    "                    print('%i\\t%6.4e\\t%6.4e\\t%6.4e\\t%6.4e\\t%.3f\\t%.4f\\n' % (step_num,f,norm_x,fun_val[step_num], nnz(x_kp1)/numel(x_kp1)*100,tk,\"telapse\"))\n",
    "            \n",
    "            if restart>0 and options['restarting']:\n",
    "                tk = 1\n",
    "                print('restarting momentum \\n')\n",
    "                yk = x_kp1         \n",
    "            else:\n",
    "                tk = t_kp1\n",
    "#                %yk = y_kp1\n",
    "            xk = x_kp1           \n",
    "            f = f_kp1\n",
    "\n",
    "            \n",
    "            if abs(restart)<options['convTol']:\n",
    "                print('Answer is stable to within convTol. Stopping.\\n')\n",
    "                out = yk\n",
    "#                draw_figures(out,options)\n",
    "                break\n",
    "        if (f<options['residTol']):\n",
    "            print('Residual below residTol. Stopping. \\n')\n",
    "        if step_num>=options['maxIter']:\n",
    "            print('Reached max number of iterations. Stopping. \\n')\n",
    "        out = yk\n",
    "        if nargout>1:\n",
    "            varargout[1] = fun_val\n",
    "            \n",
    "        return (out, varargout)\n",
    "    \n",
    "    def _tv3d_iso_Haar(x, tau, alpha):\n",
    "        def ht3(x, ax, shift, thresh):\n",
    "            s = np.shape(x)\n",
    "            w = np.zeros(s)\n",
    "            C = 1 / sqrt(2)\n",
    "            if shift:\n",
    "                x = np.roll(x, -1, ax)\n",
    "            m = np.floor(s[ax] / 2)\n",
    "            "
   ]
  },
  {
   "cell_type": "markdown",
   "metadata": {},
   "source": [
    "# 2D Simulations"
   ]
  },
  {
   "cell_type": "code",
   "execution_count": 19,
   "metadata": {},
   "outputs": [],
   "source": [
    "dataset_2d = np.load(dataset_2d_path)"
   ]
  },
  {
   "cell_type": "code",
   "execution_count": 20,
   "metadata": {},
   "outputs": [
    {
     "data": {
      "image/png": "[encoded data removed]",
      "text/plain": [
       "<Figure size 432x288 with 2 Axes>"
      ]
     },
     "metadata": {},
     "output_type": "display_data"
    }
   ],
   "source": [
    "j=4\n",
    "plane = dataset_2d[j]\n",
    "y, x = np.nonzero(plane > 0.1)\n",
    "fig = plt.figure()\n",
    "ax = fig.add_subplot(111)\n",
    "sc = ax.scatter(x, y, c=plane[y, x])\n",
    "\n",
    "plt.colorbar(sc)\n",
    "plt.title(\"plane #\" + str(j))\n",
    "\n",
    "plt.show()"
   ]
  },
  {
   "cell_type": "code",
   "execution_count": 21,
   "metadata": {},
   "outputs": [
    {
     "name": "stdout",
     "output_type": "stream",
     "text": [
      "(1100, 648, 486)\n"
     ]
    }
   ],
   "source": [
    "print(dataset_2d.shape)"
   ]
  },
  {
   "cell_type": "code",
   "execution_count": 22,
   "metadata": {},
   "outputs": [],
   "source": [
    "model = ForwardModel()\n",
    "\n",
    "n, y, x = dataset_2d.shape\n",
    "output_array = np.zeros((n, y, x))"
   ]
  },
  {
   "cell_type": "code",
   "execution_count": 23,
   "metadata": {},
   "outputs": [
    {
     "name": "stdout",
     "output_type": "stream",
     "text": [
      "0\n",
      "10\n",
      "20\n",
      "30\n",
      "40\n",
      "50\n",
      "60\n",
      "70\n",
      "80\n",
      "90\n",
      "100\n",
      "110\n",
      "120\n",
      "130\n",
      "140\n",
      "150\n",
      "160\n",
      "170\n",
      "180\n",
      "190\n",
      "200\n",
      "210\n",
      "220\n",
      "230\n",
      "240\n",
      "250\n",
      "260\n",
      "270\n",
      "280\n",
      "290\n",
      "300\n",
      "310\n",
      "320\n",
      "330\n",
      "340\n",
      "350\n",
      "360\n",
      "370\n",
      "380\n",
      "390\n",
      "400\n",
      "410\n",
      "420\n",
      "430\n",
      "440\n",
      "450\n",
      "460\n",
      "470\n",
      "480\n",
      "490\n",
      "500\n",
      "510\n",
      "520\n",
      "530\n",
      "540\n",
      "550\n",
      "560\n",
      "570\n",
      "580\n",
      "590\n",
      "600\n",
      "610\n",
      "620\n",
      "630\n",
      "640\n",
      "650\n",
      "660\n",
      "670\n",
      "680\n",
      "690\n",
      "700\n",
      "710\n",
      "720\n",
      "730\n",
      "740\n",
      "750\n",
      "760\n",
      "770\n",
      "780\n",
      "790\n",
      "800\n",
      "810\n",
      "820\n",
      "830\n",
      "840\n",
      "850\n",
      "860\n",
      "870\n",
      "880\n",
      "890\n",
      "900\n",
      "910\n",
      "920\n",
      "930\n",
      "940\n",
      "950\n",
      "960\n",
      "970\n",
      "980\n",
      "990\n",
      "1000\n",
      "1010\n",
      "1020\n",
      "1030\n",
      "1040\n",
      "1050\n",
      "1060\n",
      "1070\n",
      "1080\n",
      "1090\n"
     ]
    }
   ],
   "source": [
    "for i in range(n):\n",
    "    output_array[i] = model.simulate_2d(dataset_2d[i], alpha, H)\n",
    "    if (i % 100 == 0):\n",
    "        print(i)"
   ]
  },
  {
   "cell_type": "code",
   "execution_count": 24,
   "metadata": {},
   "outputs": [],
   "source": [
    "# Normalize all values to between -1 and 1\n",
    "output_array = output_array / np.max(np.abs(output_array))"
   ]
  },
  {
   "cell_type": "code",
   "execution_count": 27,
   "metadata": {},
   "outputs": [],
   "source": [
    "np.save(output_2d_path, output_array)"
   ]
  },
  {
   "cell_type": "code",
   "execution_count": 28,
   "metadata": {},
   "outputs": [
    {
     "data": {
      "image/png": "[encoded data removed]",
      "text/plain": [
       "<Figure size 432x230.4 with 3 Axes>"
      ]
     },
     "metadata": {},
     "output_type": "display_data"
    }
   ],
   "source": [
    "# Input which simulation to visualize\n",
    "sim_num = 4\n",
    "\n",
    "fig = plt.figure(figsize=(6, 3.2))\n",
    "\n",
    "ax = fig.add_subplot(111)\n",
    "ax.set_title('2D Image')\n",
    "plt.imshow(output_array[sim_num])\n",
    "ax.set_aspect('equal')\n",
    "\n",
    "cax = fig.add_axes([0.12, 0.1, 0.78, 0.8])\n",
    "cax.get_xaxis().set_visible(False)\n",
    "cax.get_yaxis().set_visible(False)\n",
    "cax.patch.set_alpha(0)\n",
    "cax.set_frame_on(False)\n",
    "plt.colorbar(orientation='vertical')\n",
    "plt.show()"
   ]
  },
  {
   "cell_type": "code",
   "execution_count": 29,
   "metadata": {},
   "outputs": [
    {
     "name": "stdout",
     "output_type": "stream",
     "text": [
      "(648, 486)\n"
     ]
    }
   ],
   "source": [
    "print(output_array[sim_num].shape)"
   ]
  },
  {
   "cell_type": "markdown",
   "metadata": {},
   "source": [
    "# 3D Simulations"
   ]
  },
  {
   "cell_type": "code",
   "execution_count": null,
   "metadata": {},
   "outputs": [],
   "source": [
    "dataset = np.load(dataset_path)"
   ]
  },
  {
   "cell_type": "code",
   "execution_count": null,
   "metadata": {},
   "outputs": [],
   "source": [
    "model = ForwardModel()\n",
    "\n",
    "n, z, y, x = dataset.shape\n",
    "output_array = np.zeros((n, y, x))\n",
    "for i in range(n):\n",
    "    output_array[i] = model.simulate(dataset[i], alpha, H)\n",
    "    print(i)"
   ]
  },
  {
   "cell_type": "code",
   "execution_count": null,
   "metadata": {},
   "outputs": [],
   "source": [
    "output_array.shape"
   ]
  },
  {
   "cell_type": "code",
   "execution_count": null,
   "metadata": {},
   "outputs": [],
   "source": [
    "np.save(output_path, output_array)"
   ]
  },
  {
   "cell_type": "code",
   "execution_count": null,
   "metadata": {},
   "outputs": [],
   "source": [
    "# Input which simulation to visualize\n",
    "sim_num = 3\n",
    "\n",
    "import matplotlib.pyplot as plt\n",
    "fig = plt.figure(figsize=(6, 3.2))\n",
    "\n",
    "ax = fig.add_subplot(111)\n",
    "ax.set_title('2D Image')\n",
    "plt.imshow(output_array[sim_num])\n",
    "ax.set_aspect('equal')\n",
    "\n",
    "cax = fig.add_axes([0.12, 0.1, 0.78, 0.8])\n",
    "cax.get_xaxis().set_visible(False)\n",
    "cax.get_yaxis().set_visible(False)\n",
    "cax.patch.set_alpha(0)\n",
    "cax.set_frame_on(False)\n",
    "plt.colorbar(orientation='vertical')\n",
    "plt.show()"
   ]
  },
  {
   "cell_type": "code",
   "execution_count": null,
   "metadata": {},
   "outputs": [],
   "source": [
    "# Save output array\n",
    "# sio.savemat('../data/python_output' + str(volume_num) + '_rank' + str(rank) + '.mat', dict(volume=output))"
   ]
  },
  {
   "cell_type": "code",
   "execution_count": null,
   "metadata": {},
   "outputs": [],
   "source": [
    "# Original 'object'\n",
    "from mpl_toolkits.mplot3d import Axes3D\n",
    "z, y, x = np.nonzero(dataset[sim_num] > 0.1)\n",
    "fig = plt.figure()\n",
    "ax = fig.add_subplot(111, projection='3d')\n",
    "sc = ax.scatter(x, z, y, zdir='z')\n",
    "plt.title('Original')\n",
    "plt.show()"
   ]
  },
  {
   "cell_type": "code",
   "execution_count": null,
   "metadata": {},
   "outputs": [],
   "source": [
    "# Comparison with MATLAB implementation\n",
    "mat_output_path = '../data/output.mat'\n",
    "mat_output = sio.loadmat(mat_output_path)\n",
    "mat_output = mat_output['output'].transpose(1, 0)"
   ]
  },
  {
   "cell_type": "code",
   "execution_count": null,
   "metadata": {},
   "outputs": [],
   "source": [
    "# Visualize mat_output\n",
    "fig = plt.figure(figsize=(6, 3.2))\n",
    "\n",
    "ax = fig.add_subplot(111)\n",
    "ax.set_title('2D Image MATLAB')\n",
    "plt.imshow(mat_output)\n",
    "ax.set_aspect('equal')\n",
    "\n",
    "cax = fig.add_axes([0.12, 0.1, 0.78, 0.8])\n",
    "cax.get_xaxis().set_visible(False)\n",
    "cax.get_yaxis().set_visible(False)\n",
    "cax.patch.set_alpha(0)\n",
    "cax.set_frame_on(False)\n",
    "plt.colorbar(orientation='vertical')\n",
    "plt.show()"
   ]
  },
  {
   "cell_type": "code",
   "execution_count": null,
   "metadata": {},
   "outputs": [],
   "source": [
    "# Plot reconstructed volume."
   ]
  },
  {
   "cell_type": "code",
   "execution_count": null,
   "metadata": {},
   "outputs": [],
   "source": [
    "reconstructed_path = '../data/reconstructedVolume.mat'\n",
    "reconstructed = sio.loadmat(reconstructed_path)"
   ]
  },
  {
   "cell_type": "code",
   "execution_count": null,
   "metadata": {},
   "outputs": [],
   "source": [
    "recons = reconstructed['xhat_out']\n",
    "recons = recons.transpose(2, 1, 0)"
   ]
  },
  {
   "cell_type": "code",
   "execution_count": null,
   "metadata": {},
   "outputs": [],
   "source": [
    "recons.shape"
   ]
  },
  {
   "cell_type": "code",
   "execution_count": null,
   "metadata": {},
   "outputs": [],
   "source": [
    "import matplotlib.pyplot as plt\n",
    "from mpl_toolkits.mplot3d import Axes3D\n",
    "\n",
    "z, y, x = np.nonzero(recons > 1.5)\n",
    "fig = plt.figure()\n",
    "ax = fig.add_subplot(111, projection='3d')\n",
    "sc = ax.scatter(x, z, y, zdir='z')\n",
    "plt.colorbar(sc)\n",
    "plt.title(\"Reconstructed volume\")\n",
    "plt.show()"
   ]
  },
  {
   "cell_type": "code",
   "execution_count": null,
   "metadata": {},
   "outputs": [],
   "source": [
    "# Original 'object'\n",
    "from mpl_toolkits.mplot3d import Axes3D\n",
    "\n",
    "z, y, x = np.nonzero(v)\n",
    "fig = plt.figure()\n",
    "ax = fig.add_subplot(111, projection='3d')\n",
    "sc = ax.scatter(x, z, y, zdir='z')\n",
    "plt.title('Original')\n",
    "plt.show()"
   ]
  }
 ],
 "metadata": {
  "kernelspec": {
   "display_name": "Python 3",
   "language": "python",
   "name": "python3"
  },
  "language_info": {
   "codemirror_mode": {
    "name": "ipython",
    "version": 3
   },
   "file_extension": ".py",
   "mimetype": "text/x-python",
   "name": "python",
   "nbconvert_exporter": "python",
   "pygments_lexer": "ipython3",
   "version": "3.6.9"
  }
 },
 "nbformat": 4,
 "nbformat_minor": 2
}
