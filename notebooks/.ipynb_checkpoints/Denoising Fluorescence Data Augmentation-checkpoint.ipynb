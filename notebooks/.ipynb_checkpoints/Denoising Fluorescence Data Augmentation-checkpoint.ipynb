{
 "cells": [
  {
   "cell_type": "code",
   "execution_count": null,
   "metadata": {},
   "outputs": [],
   "source": [
    "import numpy as np\n",
    "import tensorflow as tf\n",
    "\n",
    "import scipy.io as sio\n",
    "import os\n",
    "from os import path\n",
    "from PIL import Image\n",
    "from PIL import ImageOps\n",
    "import matplotlib.pyplot as plt"
   ]
  },
  {
   "cell_type": "code",
   "execution_count": null,
   "metadata": {},
   "outputs": [],
   "source": [
    "# Data taken from https://github.com/yinhaoz/denoising-fluorescence\n",
    "\n",
    "# Each sample is reflected to create 3 samples: the original, reflection about y-axis, \n",
    "# and reflection about x-axis. \n"
   ]
  },
  {
   "cell_type": "code",
   "execution_count": null,
   "metadata": {},
   "outputs": [],
   "source": [
    "samples_dir = path.join('..', '..', 'data', '2d_data', 'real_data', 'denoising_datset')\n",
    "sample_files = glob.glob(path.join(samples_dir, '*', 'gt', '*', '*.png'))\n",
    "\n",
    "record_dir = path.join('..', '..', 'data', '2d_data', 'tf_records', 'dataset', 'ground_truths')"
   ]
  },
  {
   "cell_type": "code",
   "execution_count": null,
   "metadata": {},
   "outputs": [],
   "source": [
    "print(len(files))"
   ]
  }
 ],
 "metadata": {
  "kernelspec": {
   "display_name": "Python 3",
   "language": "python",
   "name": "python3"
  },
  "language_info": {
   "codemirror_mode": {
    "name": "ipython",
    "version": 3
   },
   "file_extension": ".py",
   "mimetype": "text/x-python",
   "name": "python",
   "nbconvert_exporter": "python",
   "pygments_lexer": "ipython3",
   "version": "3.6.9"
  }
 },
 "nbformat": 4,
 "nbformat_minor": 4
}
