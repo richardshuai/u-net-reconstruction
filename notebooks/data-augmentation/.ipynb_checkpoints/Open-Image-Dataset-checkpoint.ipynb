{
 "cells": [
  {
   "cell_type": "code",
   "execution_count": 1,
   "metadata": {},
   "outputs": [],
   "source": [
    "# Data from first 15000 images from train-8, all images from train-9"
   ]
  },
  {
   "cell_type": "code",
   "execution_count": 2,
   "metadata": {},
   "outputs": [],
   "source": [
    "import numpy as np\n",
    "import tensorflow as tf\n",
    "\n",
    "from os import path\n",
    "import matplotlib.pyplot as plt\n",
    "\n",
    "from PIL import Image\n",
    "import glob"
   ]
  },
  {
   "cell_type": "code",
   "execution_count": 3,
   "metadata": {},
   "outputs": [],
   "source": [
    "np.random.seed(1)"
   ]
  },
  {
   "cell_type": "code",
   "execution_count": 8,
   "metadata": {},
   "outputs": [],
   "source": [
    "samples_names = 'open-image'\n",
    "record_dir = path.join('..', '..', 'data', '2d_data', 'tf_records', 'photography-compilation', 'ground-truths')\n",
    "dataset_dir = path.join('..', '..', 'data', 'dataset_compilation', 'open-images-dataset', 'images')\n",
    "files = glob.glob(path.join(dataset_dir, '*'))\n",
    "\n",
    "obj_dims = (648, 486)\n",
    "\n",
    "# fwhm in pixels, for convolution with Gaussian\n",
    "fwhm_pixels = np.array([2, 2])"
   ]
  },
  {
   "cell_type": "code",
   "execution_count": 7,
   "metadata": {},
   "outputs": [],
   "source": [
    "np.random.shuffle(files)\n"
   ]
  },
  {
   "cell_type": "code",
   "execution_count": 9,
   "metadata": {},
   "outputs": [],
   "source": [
    "def normalize(im):\n",
    "    \"\"\"\n",
    "    Normalizes im from 0 to 1.\n",
    "    \"\"\"\n",
    "    im_max = np.max(im)\n",
    "    im_min = np.min(im)\n",
    "    return (im - im_min) / (im_max - im_min)\n",
    "\n",
    "def _create_example(plane):\n",
    "    \"\"\"\n",
    "    Creates and returns tf.Example from a given numpy array.\n",
    "    \"\"\"\n",
    "    plane_feature = tf.train.Feature(float_list=tf.train.FloatList(value=plane.ravel()))\n",
    "    feature = {\n",
    "        'plane': plane_feature\n",
    "    }\n",
    "    return tf.train.Example(features=tf.train.Features(feature=feature))"
   ]
  },
  {
   "cell_type": "code",
   "execution_count": null,
   "metadata": {},
   "outputs": [],
   "source": [
    "for i in range(len(files)):\n",
    "    sample = Image.open(files[i])\n",
    "    sample = sample.convert('L')\n",
    "    sample = sample.resize(np.flip(obj_dims))\n",
    "\n",
    "    sample = np.asarray(sample)\n",
    "    sample = normalize(sample)\n",
    "    record_file = path.join(record_dir, sample_names + '-%.5d' % i + '.tfrecord')\n",
    "    with tf.io.TFRecordWriter(record_file) as writer:\n",
    "        tf_example = _create_example(sample)\n",
    "        writer.write(tf_example.SerializeToString())"
   ]
  }
 ],
 "metadata": {
  "kernelspec": {
   "display_name": "Python 3",
   "language": "python",
   "name": "python3"
  },
  "language_info": {
   "codemirror_mode": {
    "name": "ipython",
    "version": 3
   },
   "file_extension": ".py",
   "mimetype": "text/x-python",
   "name": "python",
   "nbconvert_exporter": "python",
   "pygments_lexer": "ipython3",
   "version": "3.6.9"
  }
 },
 "nbformat": 4,
 "nbformat_minor": 4
}
