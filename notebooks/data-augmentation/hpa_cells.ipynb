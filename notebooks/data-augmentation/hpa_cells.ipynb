{
 "cells": [
  {
   "cell_type": "code",
   "execution_count": 1,
   "metadata": {},
   "outputs": [],
   "source": [
    "# Data from https://www.kaggle.com/c/human-protein-atlas-image-classification/data"
   ]
  },
  {
   "cell_type": "code",
   "execution_count": 2,
   "metadata": {},
   "outputs": [],
   "source": [
    "import numpy as np\n",
    "import tensorflow as tf\n",
    "\n",
    "import scipy.io as sio\n",
    "from os import path\n",
    "import matplotlib.pyplot as plt\n",
    "\n",
    "from PIL import Image\n",
    "import glob"
   ]
  },
  {
   "cell_type": "code",
   "execution_count": 3,
   "metadata": {},
   "outputs": [],
   "source": [
    "np.random.seed(1)"
   ]
  },
  {
   "cell_type": "code",
   "execution_count": 4,
   "metadata": {},
   "outputs": [],
   "source": [
    "sample_names = 'hpa'\n",
    "record_dir = path.join('..', '..', 'data', '2d_data', 'tf_records', 'dataset_1', 'ground_truths')\n",
    "dataset_dir = path.join('..', '..', 'data', '2d_data', 'real_data', 'hpa_cells', 'train')\n",
    "files = glob.glob(path.join(dataset_dir, '*'))\n",
    "\n",
    "NUM_SAMPLES = 10000\n",
    "\n",
    "obj_dims = (648, 486)"
   ]
  },
  {
   "cell_type": "code",
   "execution_count": 5,
   "metadata": {},
   "outputs": [],
   "source": [
    "np.random.shuffle(files)\n",
    "files = files[:NUM_SAMPLES]"
   ]
  },
  {
   "cell_type": "code",
   "execution_count": 6,
   "metadata": {},
   "outputs": [],
   "source": [
    "def normalize(im):\n",
    "    \"\"\"\n",
    "    Normalizes im from 0 to 1.\n",
    "    \"\"\"\n",
    "    im_max = np.max(im)\n",
    "    im_min = np.min(im)\n",
    "    return (im - im_min) / (im_max - im_min)\n",
    "\n",
    "def _create_example(plane):\n",
    "    \"\"\"\n",
    "    Creates and returns tf.Example from a given numpy array.\n",
    "    \"\"\"\n",
    "    plane_feature = tf.train.Feature(float_list=tf.train.FloatList(value=plane.ravel()))\n",
    "    feature = {\n",
    "        'plane': plane_feature\n",
    "    }\n",
    "    return tf.train.Example(features=tf.train.Features(feature=feature))"
   ]
  },
  {
   "cell_type": "code",
   "execution_count": 7,
   "metadata": {},
   "outputs": [],
   "source": [
    "for i in range(NUM_SAMPLES):\n",
    "    sample = Image.open(files[i])\n",
    "    sample = sample.resize(np.flip(obj_dims))\n",
    "\n",
    "    sample = np.asarray(sample)\n",
    "    sample = normalize(sample)\n",
    "    record_file = path.join(record_dir, sample_names + '-%.5d' % i + '.tfrecord')\n",
    "    with tf.io.TFRecordWriter(record_file) as writer:\n",
    "        tf_example = _create_example(sample)\n",
    "        writer.write(tf_example.SerializeToString())"
   ]
  },
  {
   "cell_type": "code",
   "execution_count": null,
   "metadata": {},
   "outputs": [],
   "source": []
  },
  {
   "cell_type": "code",
   "execution_count": null,
   "metadata": {},
   "outputs": [],
   "source": []
  }
 ],
 "metadata": {
  "kernelspec": {
   "display_name": "Python 3",
   "language": "python",
   "name": "python3"
  },
  "language_info": {
   "codemirror_mode": {
    "name": "ipython",
    "version": 3
   },
   "file_extension": ".py",
   "mimetype": "text/x-python",
   "name": "python",
   "nbconvert_exporter": "python",
   "pygments_lexer": "ipython3",
   "version": "3.6.9"
  }
 },
 "nbformat": 4,
 "nbformat_minor": 4
}
