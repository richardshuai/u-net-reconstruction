{
 "cells": [
  {
   "cell_type": "code",
   "execution_count": 1,
   "metadata": {},
   "outputs": [],
   "source": [
    "import glob\n",
    "import os\n",
    "from os import path\n",
    "import json\n",
    "\n",
    "import tensorflow as tf\n",
    "import numpy as np\n",
    "import numpy.fft as fft\n",
    "from PIL import Image\n",
    "import matplotlib.pyplot as plt\n",
    "\n",
    "import scipy.io as sio\n",
    "import h5py"
   ]
  },
  {
   "cell_type": "markdown",
   "metadata": {},
   "source": [
    "# Parameters"
   ]
  },
  {
   "cell_type": "code",
   "execution_count": 2,
   "metadata": {},
   "outputs": [],
   "source": [
    "## Parameters\n",
    "rank = 24\n",
    "ds_psf = 2\n",
    "z_slices = 1\n",
    "\n",
    "obj_dims = (648, 486)\n",
    "\n",
    "\n",
    "# Choose volume number to load\n",
    "# volume_num = 4"
   ]
  },
  {
   "cell_type": "markdown",
   "metadata": {},
   "source": [
    "# Filepaths"
   ]
  },
  {
   "cell_type": "code",
   "execution_count": 3,
   "metadata": {},
   "outputs": [],
   "source": [
    "# Input filepaths\n",
    "comps_path = '../data/PSFs/SVD_2_5um_PSF_5um_1_ds2_components_green_SubAvg.mat'\n",
    "weights_path = '../data/PSFs/SVD_2_5um_PSF_5um_1_ds2_weights_interp_green_SubAvg.mat'"
   ]
  },
  {
   "cell_type": "code",
   "execution_count": 4,
   "metadata": {},
   "outputs": [],
   "source": [
    "# Planes record path\n",
    "planes_dir = path.join('..', 'data', '2d_data', 'tf_records', 'dataset', 'ground_truths')\n",
    "planes_files = glob.glob(path.join(planes_dir, '*'))\n",
    "\n",
    "# Simulation output record path\n",
    "record_dir = path.join('..', 'data', '2d_data', 'tf_records', 'dataset', 'sims')"
   ]
  },
  {
   "cell_type": "markdown",
   "metadata": {},
   "source": [
    "# Loading PSF, Preprocessing"
   ]
  },
  {
   "cell_type": "code",
   "execution_count": 5,
   "metadata": {},
   "outputs": [],
   "source": [
    "# Read in Matlab v7.3 files with h5py.\n",
    "# Stores output as comps and weights.\n",
    "comps_file = h5py.File(comps_path, 'r')\n",
    "for k, v in comps_file.items():\n",
    "    comps = np.array(v)\n",
    "    \n",
    "weights_file = h5py.File(weights_path, 'r')\n",
    "for k, v in weights_file.items():\n",
    "    weights = np.array(v)"
   ]
  },
  {
   "cell_type": "code",
   "execution_count": 6,
   "metadata": {},
   "outputs": [
    {
     "name": "stdout",
     "output_type": "stream",
     "text": [
      "float64 float64\n"
     ]
    }
   ],
   "source": [
    "# Ensuring dtype of weights and comps is float\n",
    "print(comps.dtype, weights.dtype)"
   ]
  },
  {
   "cell_type": "code",
   "execution_count": 7,
   "metadata": {},
   "outputs": [],
   "source": [
    "# Transpose axes to get both arrays into shape (r, z, y, x)\n",
    "comps = comps.transpose(1, 0, 2, 3)\n",
    "weights = weights.transpose(1, 0, 2, 3)"
   ]
  },
  {
   "cell_type": "code",
   "execution_count": 8,
   "metadata": {},
   "outputs": [],
   "source": [
    "r_orig, z_orig, y_orig, x_orig = comps.shape"
   ]
  },
  {
   "cell_type": "code",
   "execution_count": 9,
   "metadata": {},
   "outputs": [
    {
     "name": "stdout",
     "output_type": "stream",
     "text": [
      "(24, 80, 1296, 972)\n"
     ]
    }
   ],
   "source": [
    "print(comps.shape)"
   ]
  },
  {
   "cell_type": "code",
   "execution_count": 10,
   "metadata": {},
   "outputs": [],
   "source": [
    "# Downsampling shape calculation. Must be flipped for use in PIL.Image.resize()\n",
    "ds_shape = (np.array(comps.shape[2:]) / ds_psf).astype(int)"
   ]
  },
  {
   "cell_type": "code",
   "execution_count": 11,
   "metadata": {},
   "outputs": [],
   "source": [
    "# max( sum( weights( size(weights,1)/2, size(weights,2)/2, :, :) , 4) , [] , 3);"
   ]
  },
  {
   "cell_type": "code",
   "execution_count": 12,
   "metadata": {},
   "outputs": [],
   "source": [
    "# Convert each image slice into PIL image and store in array of shape (r, z)\n",
    "PIL_comps_image_array = [[Image.fromarray(comps[r, z]) for z in range(z_orig)] for r in range(r_orig)]\n",
    "PIL_weights_image_array = [[Image.fromarray(weights[r, z])for z in range(z_orig)] for r in range(r_orig)]\n",
    "\n",
    "# Downsample each PIL image in the array\n",
    "PIL_comps_image_array = [[PIL_comps_image_array[r][z].resize(np.flip(ds_shape), resample=Image.BOX) \n",
    "                             for z in range(z_orig)] for r in range(r_orig)]\n",
    "PIL_weights_image_array = [[PIL_weights_image_array[r][z].resize(np.flip(ds_shape), resample=Image.BOX) \n",
    "                             for z in range(z_orig)] for r in range(r_orig)]\n",
    "\n",
    "# Convert each PIL image back into numpy array, return to numpy array of shape (r, z, y, x)\n",
    "comps = np.array([[np.array(PIL_comps_image_array[r][z]) for z in range(z_orig)] for r in range(r_orig)])\n",
    "weights = np.array([[np.array(PIL_weights_image_array[r][z]) for z in range(z_orig)] for r in range(r_orig)])"
   ]
  },
  {
   "cell_type": "code",
   "execution_count": 13,
   "metadata": {},
   "outputs": [],
   "source": [
    "# % Normalize weights to have maximum sum through rank of 1\n",
    "_, _, y_new, x_new = weights.shape\n",
    "weights_norm = np.max(np.sum(weights[:, :, y_new//2, x_new//2], axis=0, keepdims=True), axis=1)\n",
    "\n",
    "# Other normalizations\n",
    "weights = weights / weights_norm\n",
    "comps = comps/(np.linalg.norm(comps.ravel()))"
   ]
  },
  {
   "cell_type": "code",
   "execution_count": 14,
   "metadata": {},
   "outputs": [],
   "source": [
    "# PSF Preprocessing...\n",
    "comps = comps[:rank]\n",
    "weights = weights[:rank]\n",
    "comps = comps[:, :z_slices]\n",
    "weights = weights[:, :z_slices]"
   ]
  },
  {
   "cell_type": "code",
   "execution_count": 15,
   "metadata": {},
   "outputs": [],
   "source": [
    "# Calculate fourier transform of H\n",
    "H = fft.fft2(fft.ifftshift(fft.ifftshift(comps, axes=2), axes=3))\n",
    "alpha = weights"
   ]
  },
  {
   "cell_type": "markdown",
   "metadata": {},
   "source": [
    "# Forward Model"
   ]
  },
  {
   "cell_type": "code",
   "execution_count": 16,
   "metadata": {},
   "outputs": [],
   "source": [
    "class ForwardModel():\n",
    "    def simulate(self, v, alpha, H):\n",
    "        return self._A_svd_3d(v, alpha, H)\n",
    "    \n",
    "    def simulate_2d(self, v, alpha, H):\n",
    "        return self._A_svd_2d(v, alpha, H)\n",
    "        \n",
    "#     def _create_example(self, plane):\n",
    "#         \"\"\"\n",
    "#         Creates and returns tf.Example from a given plane.\n",
    "#         \"\"\"\n",
    "#         plane_feature = tf.train.Feature(float_list=tf.train.FloatList(value=plane.ravel()))\n",
    "#         feature = {\n",
    "#             'plane': plane_feature\n",
    "#         }\n",
    "#         return tf.train.Example(features=tf.train.Features(feature=feature))\n",
    "    \n",
    "#     def write(self, record_file):\n",
    "#         \"\"\"\n",
    "#         Writes all planes in dset to filename in output_dir\n",
    "#         \"\"\"\n",
    "#         with tf.io.TFRecordWriter(record_file) as writer:\n",
    "#             for plane in self.dset:\n",
    "#                 tf_example = self._create_example(plane)\n",
    "#                 writer.write(tf_example.SerializeToString())\n",
    "                \n",
    "    def _A_svd_3d(self, v, alpha, H):\n",
    "        \"\"\"\n",
    "        Given a Fourier transformed H, calculates the convolution between H and alpha*v using FFT. \n",
    "        Sums up the results along the rank and all z-slices.\n",
    "        \n",
    "        Inputs:\n",
    "        - H: Components of shape (r, z, y, x)\n",
    "        - alpha: Weights of shape (r, z, y, x)\n",
    "        - v: Object of shape (z, y, x)\n",
    "        \n",
    "        Outputs:\n",
    "        - b: Simulated image of shape (y, x)\n",
    "        \"\"\"\n",
    "        b = np.real(fft.ifft2(np.sum(np.sum(H*fft.fft2(v*alpha), axis=1), axis=0)))\n",
    "        return b\n",
    "\n",
    "    def _A_svd_2d(self, v, alpha, H):\n",
    "        \"\"\"\n",
    "        Same as A_svd_3d, but reshapes v of shape (y, x) into v of shape (1, y, x)\n",
    "        Given a Fourier transformed H, calculates the convolution between H and alpha*v using FFT. \n",
    "        Sums up the results along the rank and all z-slices.\n",
    "        \n",
    "        Inputs:\n",
    "        - H: Components of shape (r, z, y, x)\n",
    "        - alpha: Weights of shape (r, z, y, x)\n",
    "        - v: Object of shape (y, x)\n",
    "        \n",
    "        Outputs:\n",
    "        - b: Simulated image of shape (y, x)\n",
    "        \"\"\"\n",
    "        y, x = v.shape\n",
    "        v = v.reshape(1, y, x)\n",
    "        b = np.real(fft.ifft2(np.sum(np.sum(H*fft.fft2(v*alpha), axis=1), axis=0)))\n",
    "        return b"
   ]
  },
  {
   "cell_type": "markdown",
   "metadata": {},
   "source": [
    "# 2D Simulations"
   ]
  },
  {
   "cell_type": "code",
   "execution_count": 17,
   "metadata": {},
   "outputs": [],
   "source": [
    "raw_plane_dataset = tf.data.TFRecordDataset(filenames=planes_files)\n",
    "feature_description = {\n",
    "    'plane': tf.io.FixedLenFeature(obj_dims, tf.float32)\n",
    "}\n",
    "def _parse_function(example_proto):\n",
    "  # Parse the input tf.Example proto using the dictionary above.\n",
    "  return tf.io.parse_single_example(example_proto, feature_description)\n",
    "parsed_dset_2d = raw_plane_dataset.map(_parse_function)"
   ]
  },
  {
   "cell_type": "code",
   "execution_count": 18,
   "metadata": {},
   "outputs": [
    {
     "data": {
      "text/plain": [
       "<matplotlib.image.AxesImage at 0x7f7ecb195588>"
      ]
     },
     "execution_count": 18,
     "metadata": {},
     "output_type": "execute_result"
    },
    {
     "data": {
      "image/png": "[encoded data removed]",
      "text/plain": [
       "<Figure size 432x288 with 1 Axes>"
      ]
     },
     "metadata": {
      "needs_background": "light"
     },
     "output_type": "display_data"
    }
   ],
   "source": [
    "# Visualize a random example\n",
    "dset_iterator = iter(parsed_dset_2d.shuffle(32))\n",
    "plane_example = next(dset_iterator)['plane'].numpy()\n",
    "\n",
    "plt.imshow(plane_example)"
   ]
  },
  {
   "cell_type": "markdown",
   "metadata": {},
   "source": [
    "# Writing to TFRecords File"
   ]
  },
  {
   "cell_type": "code",
   "execution_count": 19,
   "metadata": {},
   "outputs": [
    {
     "name": "stdout",
     "output_type": "stream",
     "text": [
      "sim-00000 processed\n",
      "sim-00500 processed\n",
      "sim-01000 processed\n",
      "sim-01500 processed\n",
      "sim-02000 processed\n",
      "sim-02500 processed\n",
      "sim-03000 processed\n",
      "sim-03500 processed\n",
      "sim-04000 processed\n",
      "sim-04500 processed\n",
      "sim-05000 processed\n",
      "sim-05500 processed\n",
      "sim-06000 processed\n",
      "sim-06500 processed\n",
      "sim-07000 processed\n",
      "sim-07500 processed\n",
      "sim-08000 processed\n",
      "sim-08500 processed\n",
      "sim-09000 processed\n",
      "sim-09500 processed\n",
      "sim-10000 processed\n",
      "sim-10500 processed\n",
      "sim-11000 processed\n",
      "sim-11500 processed\n",
      "sim-12000 processed\n",
      "sim-12500 processed\n",
      "sim-13000 processed\n",
      "sim-13500 processed\n",
      "sim-14000 processed\n",
      "sim-14500 processed\n",
      "sim-15000 processed\n",
      "sim-15500 processed\n",
      "sim-16000 processed\n",
      "sim-16500 processed\n",
      "sim-17000 processed\n",
      "sim-17500 processed\n",
      "sim-18000 processed\n",
      "sim-18500 processed\n",
      "sim-19000 processed\n",
      "sim-19500 processed\n",
      "sim-20000 processed\n",
      "sim-20500 processed\n",
      "sim-21000 processed\n",
      "sim-21500 processed\n",
      "sim-22000 processed\n",
      "sim-22500 processed\n",
      "sim-23000 processed\n",
      "sim-23500 processed\n",
      "sim-24000 processed\n",
      "sim-24500 processed\n",
      "sim-25000 processed\n",
      "sim-25500 processed\n",
      "sim-26000 processed\n",
      "sim-26500 processed\n"
     ]
    }
   ],
   "source": [
    "model = ForwardModel()\n",
    "\n",
    "def _create_example(plane, sim):\n",
    "    plane_feature = tf.train.Feature(float_list=tf.train.FloatList(value=plane.ravel()))\n",
    "    sim_feature = tf.train.Feature(float_list=tf.train.FloatList(value=sim.ravel()))\n",
    "    feature = {\n",
    "        'plane': plane_feature,\n",
    "        'sim': sim_feature\n",
    "    }\n",
    "    return tf.train.Example(features=tf.train.Features(feature=feature))\n",
    "\n",
    "i = 0\n",
    "for sample in parsed_dset_2d:\n",
    "    record_file = path.join(record_dir, 'sim-%.5d' % i)\n",
    "    plane = sample['plane'].numpy()\n",
    "    sim = model.simulate(plane, alpha, H).astype(np.float16)\n",
    "    tf_example = _create_example(plane, sim)\n",
    "\n",
    "    with tf.io.TFRecordWriter(record_file) as writer:\n",
    "        writer.write(tf_example.SerializeToString())\n",
    "    if i % 500 == 0:\n",
    "        print('sim-%.5d processed' % i)\n",
    "    i += 1\n",
    "    \n",
    "#     n = 0\n",
    "#     for sample in parsed_dset_2d:\n",
    "#         plane = sample['plane'].numpy()\n",
    "#         sim = model.simulate(plane, alpha, H).astype(np.float16)\n",
    "\n",
    "#         tf_example = _create_example(plane, sim)\n",
    "#         writer.write(tf_example.SerializeToString())\n",
    "#         n += 1\n",
    "#         if n % 500 == 0:\n",
    "#             print(n)"
   ]
  },
  {
   "cell_type": "code",
   "execution_count": 20,
   "metadata": {},
   "outputs": [
    {
     "data": {
      "text/plain": [
       "<matplotlib.image.AxesImage at 0x7f7ec852d2e8>"
      ]
     },
     "execution_count": 20,
     "metadata": {},
     "output_type": "execute_result"
    },
    {
     "data": {
      "image/png": "[encoded data removed]",
      "text/plain": [
       "<Figure size 432x288 with 1 Axes>"
      ]
     },
     "metadata": {
      "needs_background": "light"
     },
     "output_type": "display_data"
    }
   ],
   "source": [
    "# Visualize sim example\n",
    "sim_example = model.simulate(plane_example, alpha, H)\n",
    "plt.imshow(sim_example)"
   ]
  },
  {
   "cell_type": "code",
   "execution_count": null,
   "metadata": {},
   "outputs": [],
   "source": []
  }
 ],
 "metadata": {
  "kernelspec": {
   "display_name": "Python 3",
   "language": "python",
   "name": "python3"
  },
  "language_info": {
   "codemirror_mode": {
    "name": "ipython",
    "version": 3
   },
   "file_extension": ".py",
   "mimetype": "text/x-python",
   "name": "python",
   "nbconvert_exporter": "python",
   "pygments_lexer": "ipython3",
   "version": "3.6.9"
  }
 },
 "nbformat": 4,
 "nbformat_minor": 2
}
