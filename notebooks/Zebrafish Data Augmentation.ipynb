{
 "cells": [
  {
   "cell_type": "code",
   "execution_count": null,
   "metadata": {},
   "outputs": [],
   "source": [
    "import numpy as np\n",
    "import tensorflow as tf\n",
    "\n",
    "import scipy.io as sio\n",
    "from os import path\n",
    "from PIL import Image\n",
    "from PIL import ImageOps\n",
    "import matplotlib.pyplot as plt"
   ]
  },
  {
   "cell_type": "code",
   "execution_count": null,
   "metadata": {},
   "outputs": [],
   "source": [
    "# Each zebrafish sample is reflected to create 3 samples: the original, reflection about y-axis, \n",
    "# and reflection about x-axis. \n",
    "# Each of these 3 samples are rotated to generate the desired number of images per sample."
   ]
  },
  {
   "cell_type": "code",
   "execution_count": null,
   "metadata": {},
   "outputs": [],
   "source": [
    "# Names of sample files: sample_names-xxxxx\n",
    "sample_names = 'zebrafish'\n",
    "record_dir = path.join('..', 'data', '2d_data', 'tf_records', 'zebrafish_and_beads', 'ground_truths')\n",
    "\n",
    "# Target number of images per image, should be divisible by 3.\n",
    "num_images_per = 99\n",
    "obj_dims = (648, 486)"
   ]
  },
  {
   "cell_type": "code",
   "execution_count": null,
   "metadata": {},
   "outputs": [],
   "source": [
    "zebrafish_mat_file = path.join('..', 'data', '2d_data', 'real_data', 'fish_double.mat')"
   ]
  },
  {
   "cell_type": "code",
   "execution_count": null,
   "metadata": {},
   "outputs": [],
   "source": [
    "zfs = np.array(sio.loadmat(zebrafish_mat_file)['fish'])\n",
    "zfs = zfs.transpose(2, 0, 1)    # Transpose to achieve n, y, x order"
   ]
  },
  {
   "cell_type": "code",
   "execution_count": null,
   "metadata": {},
   "outputs": [],
   "source": [
    "plt.imshow(zfs[0])"
   ]
  },
  {
   "cell_type": "code",
   "execution_count": null,
   "metadata": {},
   "outputs": [],
   "source": [
    "def calc_pad_widths(im, target_dims):\n",
    "    \"\"\"\n",
    "    Calculates and returns pad width so that rotation does not get cut off. \n",
    "    Image must be numpy array.\n",
    "    \"\"\"\n",
    "    padded_size = max(np.max(target_dims), \n",
    "                      int(np.max(np.shape(im)) * np.sqrt(2))) # either target image size, or longest diagonal\n",
    "    y, x = im.shape\n",
    "    y_diff, x_diff = padded_size - y, padded_size - x\n",
    "    pad_widths = ((int(np.ceil(y_diff / 2)), int(np.floor(y_diff / 2))),\n",
    "                    (int(np.ceil(x_diff / 2)), int(np.floor(x_diff / 2))))\n",
    "    \n",
    "    return pad_widths\n",
    "\n",
    "def crop(im, target_dims):\n",
    "    \"\"\"\n",
    "    Crops image numpy array to target dims (y, x), centering image. \n",
    "    Returns cropped image.\n",
    "    \"\"\"\n",
    "    y1, x1 = im.shape\n",
    "    y2, x2, = target_dims\n",
    "    y_diff, x_diff = y1 - y2, x1 - x2\n",
    "    c_y1, c_y2 = int(np.ceil(y_diff / 2)), y1 - int(np.floor(y_diff / 2))\n",
    "    c_x1, c_x2 = int(np.ceil(x_diff / 2)), x1 - int(np.floor(x_diff / 2))\n",
    "                    \n",
    "    return im[c_y1:c_y2, c_x1:c_x2]\n",
    "\n",
    "def augment(im, target_dims, num_degrees, transform=None):\n",
    "    \"\"\"\n",
    "    Takes in numpy array. First, pads image with zeroes such that rotation fits in the image.\n",
    "    Uses PIL to apply transform and rotation. Crops the image back to be of obj_target_dims size.\n",
    "    Returns resulting numpy array.\n",
    "    \n",
    "    Arguments:\n",
    "        - im: image to be transformed\n",
    "        - num_degrees: number of degrees to rotate\n",
    "        - target_dims: target image size (y, x).\n",
    "        - transform: transform to be applied before rotation\n",
    "            - 'flip': reflects along x-axis\n",
    "            - 'mirror': reflects along y-axis\n",
    "    \"\"\"\n",
    "\n",
    "    pad_widths = calc_pad_widths(im, target_dims)\n",
    "    im = np.pad(im, pad_width=pad_widths) \n",
    "    im = Image.fromarray(im)\n",
    "    if transform == 'flip':\n",
    "        im = ImageOps.flip(im)\n",
    "    elif transform == 'mirror':\n",
    "        im = ImageOps.mirror(im)\n",
    "    im = im.rotate(num_degrees)\n",
    "    im = np.asarray(im)\n",
    "    im = crop(im, target_dims)\n",
    "    \n",
    "    return im\n",
    "\n",
    "def _create_example(plane):\n",
    "    \"\"\"\n",
    "    Creates and returns tf.Example from a given numpy array.\n",
    "    \"\"\"\n",
    "    plane_feature = tf.train.Feature(float_list=tf.train.FloatList(value=plane.ravel()))\n",
    "    feature = {\n",
    "        'plane': plane_feature\n",
    "    }\n",
    "    return tf.train.Example(features=tf.train.Features(feature=feature))"
   ]
  },
  {
   "cell_type": "code",
   "execution_count": null,
   "metadata": {},
   "outputs": [],
   "source": [
    "num_rotations = num_images_per // 3\n",
    "degree_increment = 360 / num_rotations\n",
    "\n",
    "for i in range(len(zfs)):\n",
    "    zf = zfs[i]\n",
    "    for j in range(num_rotations):\n",
    "        num_degrees = degree_increment * j\n",
    "        zf_aug = augment(zf, obj_dims, num_degrees, transform=None)\n",
    "        record_file = path.join(record_dir, sample_names + '-%.5d' % (num_images_per*i + 3*j))\n",
    "        with tf.io.TFRecordWriter(record_file) as writer:\n",
    "            tf_example = _create_example(zf_aug)\n",
    "            writer.write(tf_example.SerializeToString())\n",
    "            \n",
    "#         plt.imshow(zf_aug)\n",
    "#         plt.title('i: {0}, num_degrees: {1}, transform: {2}'.format(i, num_degrees, 'None'))\n",
    "#         plt.show()\n",
    "        \n",
    "        zf_aug = augment(zf, obj_dims, num_degrees, transform='flip')\n",
    "        record_file = path.join(record_dir, sample_names + '-%.5d' % (num_images_per*i + 3*j + 1))\n",
    "        with tf.io.TFRecordWriter(record_file) as writer:\n",
    "            tf_example = _create_example(zf_aug)\n",
    "            writer.write(tf_example.SerializeToString())\n",
    "            \n",
    "#         plt.imshow(zf_aug)\n",
    "#         plt.title('i: {0}, num_degrees: {1}, transform: {2}'.format(i, num_degrees, 'flip'))\n",
    "#         plt.show()\n",
    "        \n",
    "        zf_aug = augment(zf, obj_dims, num_degrees, transform='mirror')\n",
    "        record_file = path.join(record_dir, sample_names + '-%.5d' % (num_images_per*i + 3*j + 2))\n",
    "        with tf.io.TFRecordWriter(record_file) as writer:\n",
    "            tf_example = _create_example(zf_aug)\n",
    "            writer.write(tf_example.SerializeToString())\n",
    "            \n",
    "#         plt.imshow(zf_aug)\n",
    "#         plt.title('i: {0}, num_degrees: {1}, transform: {2}'.format(i, num_degrees, 'mirror'))\n",
    "#         plt.show()\n",
    "        "
   ]
  },
  {
   "cell_type": "code",
   "execution_count": null,
   "metadata": {},
   "outputs": [],
   "source": [
    "fig = plt.figure(figsize=(30, 30))\n",
    "s = fig.add_subplot(1, 3, 1)\n",
    "plt.imshow(zf_3)\n",
    "s = fig.add_subplot(1, 3, 2)\n",
    "plt.imshow(zf_2)\n",
    "s = fig.add_subplot(1, 3, 3)\n",
    "plt.imshow(zf_1)\n",
    "plt.show()"
   ]
  },
  {
   "cell_type": "code",
   "execution_count": null,
   "metadata": {},
   "outputs": [],
   "source": [
    "im = zfs[0]\n",
    "dims = (648, 486)\n",
    "pad_widths = calc_pad_widths(im, dims)\n",
    "im = np.pad(im, pad_width=pad_widths) \n",
    "plt.imshow(im)\n",
    "plt.show()\n",
    "temp = im\n",
    "print(im.shape)\n",
    "\n",
    "im = crop(im, dims)\n",
    "plt.imshow(im)\n",
    "plt.show()\n",
    "print(im.shape)\n",
    "\n",
    "\n",
    "assert np.all(crop(temp, (512, 512)) == zfs[0])\n"
   ]
  },
  {
   "cell_type": "code",
   "execution_count": null,
   "metadata": {},
   "outputs": [],
   "source": [
    "fig = plt.figure(figsize = (20, 20))\n",
    "for i in range(10):\n",
    "    num_degrees = i * 36\n",
    "    fig.add_subplot(2, 5, i+1)\n",
    "    plt.imshow(augment(zfs[0], dims, num_degrees, transform='flip'))\n",
    "\n",
    "plt.show()"
   ]
  },
  {
   "cell_type": "code",
   "execution_count": null,
   "metadata": {},
   "outputs": [],
   "source": []
  },
  {
   "cell_type": "code",
   "execution_count": null,
   "metadata": {},
   "outputs": [],
   "source": []
  }
 ],
 "metadata": {
  "kernelspec": {
   "display_name": "Python 3",
   "language": "python",
   "name": "python3"
  },
  "language_info": {
   "codemirror_mode": {
    "name": "ipython",
    "version": 3
   },
   "file_extension": ".py",
   "mimetype": "text/x-python",
   "name": "python",
   "nbconvert_exporter": "python",
   "pygments_lexer": "ipython3",
   "version": "3.6.9"
  }
 },
 "nbformat": 4,
 "nbformat_minor": 4
}
