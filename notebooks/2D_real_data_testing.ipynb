{
 "cells": [
  {
   "cell_type": "code",
   "execution_count": null,
   "metadata": {},
   "outputs": [],
   "source": [
    "obj_dims = (648, 486)"
   ]
  },
  {
   "cell_type": "code",
   "execution_count": null,
   "metadata": {},
   "outputs": [],
   "source": [
    "import numpy as np\n",
    "import matplotlib.pyplot as plt\n",
    "import tensorflow as tf\n",
    "import tensorflow.keras as keras\n",
    "from tensorflow.keras import backend as K\n",
    "from tensorflow.keras import layers\n",
    "\n",
    "\n",
    "import os\n",
    "import json\n",
    "import scipy.io as sio\n",
    "from os import path\n",
    "\n",
    "from src.model import UNet_2d\n",
    "\n",
    "import PIL\n",
    "from PIL import Image"
   ]
  },
  {
   "cell_type": "code",
   "execution_count": null,
   "metadata": {},
   "outputs": [],
   "source": [
    "os.environ[\"CUDA_VISIBLE_DEVICES\"]=\"0\""
   ]
  },
  {
   "cell_type": "code",
   "execution_count": null,
   "metadata": {},
   "outputs": [],
   "source": [
    "model_description = 'model-8.7'"
   ]
  },
  {
   "cell_type": "code",
   "execution_count": null,
   "metadata": {},
   "outputs": [],
   "source": [
    "real_data_path = path.join('..', 'data', 'real-data', 'realData.mat')\n",
    "ground_truth_path = path.join('..', 'data', 'real-data', 'beads_GT.png')\n",
    "\n",
    "# Paths for saving/loading model weights, predictions\n",
    "base_path = path.join('..', 'models', model_description)\n",
    "model_weights_path = path.join(base_path, model_description)\n",
    "image_path = path.join(base_path, 'prediction-images')"
   ]
  },
  {
   "cell_type": "markdown",
   "metadata": {},
   "source": [
    "# Testing"
   ]
  },
  {
   "cell_type": "code",
   "execution_count": null,
   "metadata": {},
   "outputs": [],
   "source": [
    "model = UNet_2d()\n",
    "epoch = 'e140'\n",
    "model.load_weights(model_weights_path + '.{}'.format(epoch))"
   ]
  },
  {
   "cell_type": "code",
   "execution_count": null,
   "metadata": {},
   "outputs": [],
   "source": [
    "# Read in older mat files with scipy.io\n",
    "data = sio.loadmat(real_data_path)"
   ]
  },
  {
   "cell_type": "code",
   "execution_count": null,
   "metadata": {},
   "outputs": [],
   "source": [
    "beads, res = data['beads'], data['resTarget']\n",
    "beads = np.array(Image.fromarray(beads).resize(obj_dims, resample=PIL.Image.NEAREST))\n",
    "b_min = np.min(beads)\n",
    "b_max = np.max(beads)\n",
    "beads_input_normed = ((beads - b_min) / (b_max - b_min)).T\n",
    "beads_input = beads_input_normed.astype(np.float16)[np.newaxis, ..., np.newaxis]"
   ]
  },
  {
   "cell_type": "code",
   "execution_count": null,
   "metadata": {},
   "outputs": [],
   "source": [
    "res = np.array(Image.fromarray(res).resize(obj_dims, resample=PIL.Image.NEAREST))\n",
    "r_min = np.min(res)\n",
    "r_max = np.max(res)\n",
    "res_input_normed = ((res - r_min) / (r_max - r_min)).T\n",
    "res_input = res_input_normed.astype(np.float16)[np.newaxis, ..., np.newaxis]"
   ]
  },
  {
   "cell_type": "code",
   "execution_count": null,
   "metadata": {},
   "outputs": [],
   "source": [
    "pred_beads = model.predict(beads_input).squeeze()"
   ]
  },
  {
   "cell_type": "code",
   "execution_count": null,
   "metadata": {},
   "outputs": [],
   "source": [
    "pred_res = model.predict(res_input).squeeze()"
   ]
  },
  {
   "cell_type": "code",
   "execution_count": null,
   "metadata": {},
   "outputs": [],
   "source": [
    "beads_gt_im = Image.open(ground_truth_path)\n",
    "beads_gt = np.array(beads_gt_im).T\n",
    "# Normalize beads from 0 to 1\n",
    "beads_gt = (beads_gt - np.min(beads_gt)) / (np.max(beads_gt) - np.min(beads_gt))"
   ]
  },
  {
   "cell_type": "code",
   "execution_count": null,
   "metadata": {},
   "outputs": [],
   "source": [
    "fig = plt.figure(figsize=(30, 30))\n",
    "f0 = fig.add_subplot(1, 3, 1)\n",
    "f0.set_title('beads ground truth')\n",
    "f0.imshow(beads_gt)\n",
    "\n",
    "f1 = fig.add_subplot(1, 3, 2)\n",
    "f1.set_title('my beads reconstruction') # Normalized before simulation, but not after\n",
    "f1.imshow(pred_beads)\n",
    "\n",
    "f2 = fig.add_subplot(1, 3, 3)\n",
    "f2.set_title('input')\n",
    "f2.imshow(beads_input_normed)\n",
    "\n",
    "\n",
    "plt.savefig(path.join(image_path, '{}_beads_reconstruction_{}.pdf'.format(model_description, epoch)))\n",
    "plt.show()\n"
   ]
  },
  {
   "cell_type": "code",
   "execution_count": null,
   "metadata": {},
   "outputs": [],
   "source": [
    "fig = plt.figure(figsize=(30, 30))\n",
    "f1 = fig.add_subplot(1, 3, 2)\n",
    "f1.set_title('my res reconstruction') # Normalized before simulation, but not after\n",
    "f1.imshow(pred_res)\n",
    "\n",
    "f2 = fig.add_subplot(1, 3, 3)\n",
    "f2.set_title('res input')\n",
    "f2.imshow(res_input_normed)\n",
    "\n",
    "plt.savefig(path.join(image_path, '{}_res_reconstruction_{}.pdf'.format(model_description, epoch)))\n",
    "\n",
    "plt.show()"
   ]
  },
  {
   "cell_type": "code",
   "execution_count": null,
   "metadata": {},
   "outputs": [],
   "source": []
  },
  {
   "cell_type": "code",
   "execution_count": null,
   "metadata": {},
   "outputs": [],
   "source": [
    "print(np.max(pred_beads), np.min(pred_beads))"
   ]
  },
  {
   "cell_type": "code",
   "execution_count": null,
   "metadata": {},
   "outputs": [],
   "source": [
    "print(np.max(beads_gt), np.min(beads_gt))"
   ]
  },
  {
   "cell_type": "code",
   "execution_count": null,
   "metadata": {},
   "outputs": [],
   "source": [
    "print(np.max(pred_res), np.min(pred_res))"
   ]
  },
  {
   "cell_type": "code",
   "execution_count": null,
   "metadata": {},
   "outputs": [],
   "source": [
    "print(np.max(res_input_normed), np.min(res_input_normed))"
   ]
  },
  {
   "cell_type": "code",
   "execution_count": null,
   "metadata": {},
   "outputs": [],
   "source": []
  }
 ],
 "metadata": {
  "kernelspec": {
   "display_name": "venv_unet",
   "language": "python",
   "name": "venv_unet"
  },
  "language_info": {
   "codemirror_mode": {
    "name": "ipython",
    "version": 3
   },
   "file_extension": ".py",
   "mimetype": "text/x-python",
   "name": "python",
   "nbconvert_exporter": "python",
   "pygments_lexer": "ipython3",
   "version": "3.6.9"
  }
 },
 "nbformat": 4,
 "nbformat_minor": 4
}
